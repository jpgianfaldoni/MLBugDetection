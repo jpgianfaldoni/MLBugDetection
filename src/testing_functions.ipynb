{
 "cells": [
  {
   "cell_type": "code",
   "execution_count": null,
   "metadata": {},
   "outputs": [],
   "source": [
    "import pandas as pd\n",
    "import numpy as np\n",
    "import pickle\n",
    "import random\n",
    "from matplotlib import pyplot as plt\n",
    "from monotonic import monotonicity_mse, check_monotonicity\n",
    "from critical_values import find_critical_values, highest_and_lowest_indexes, find_several_critical_values\n",
    "# from calibration import calibration_check"
   ]
  },
  {
   "cell_type": "code",
   "execution_count": null,
   "metadata": {},
   "outputs": [],
   "source": [
    "with open('models/XGBoost/XGBoost.pkl', 'rb') as f:\n",
    "    XGBoost = pickle.load(f)\n",
    "with open('models/LogisticRegression/LogisticRegression.pkl', 'rb') as f:\n",
    "    LR = pickle.load(f)\n",
    "with open('models/RandomForest/RandomForest.pkl', 'rb') as f:\n",
    "    RF = pickle.load(f)\n",
    "with open('models/SVM/SVMTitanic.pkl', 'rb') as f:\n",
    "    SVM = pickle.load(f)\n",
    "models = [XGBoost, LR, RF]\n"
   ]
  },
  {
   "cell_type": "code",
   "execution_count": null,
   "metadata": {},
   "outputs": [],
   "source": [
    "df = pd.read_csv('../datasets/fraud_new.csv')\n",
    "df_titanic = pd.read_csv('../datasets/TitanicClean.csv')\n",
    "example = df.sample(1)\n",
    "example = example.drop('isFraud', axis = 1)"
   ]
  },
  {
   "cell_type": "code",
   "execution_count": null,
   "metadata": {},
   "outputs": [],
   "source": [
    "example_titanic = df_titanic.sample(1)"
   ]
  },
  {
   "cell_type": "code",
   "execution_count": null,
   "metadata": {},
   "outputs": [],
   "source": [
    "for c in df_titanic.columns:\n",
    "    if c != 'isFraud':\n",
    "        minV = df_titanic[c].min()\n",
    "        maxV = df_titanic[c].max()\n",
    "        teste = check_monotonicity(c,minV,maxV,example_titanic, SVM, 150)\n",
    "        break"
   ]
  },
  {
   "cell_type": "code",
   "execution_count": null,
   "metadata": {},
   "outputs": [],
   "source": []
  },
  {
   "cell_type": "code",
   "execution_count": null,
   "metadata": {},
   "outputs": [],
   "source": [
    "# for c in df_titanic.columns:\n",
    "#     if c != 'isFraud':\n",
    "#         minV = 100\n",
    "#         maxV = 100\n",
    "#         find_critical_values(SVM, example_titanic, c, minV, maxV, step = 1000 )"
   ]
  },
  {
   "cell_type": "code",
   "execution_count": null,
   "metadata": {},
   "outputs": [],
   "source": [
    "# for c in df.columns:\n",
    "#     if c != 'isFraud':\n",
    "#         minV = df[c].min()\n",
    "#         maxV = df[c].max()\n",
    "#         for model in models:\n",
    "#             find_critical_values(model, example, c, minV, maxV, )"
   ]
  },
  {
   "cell_type": "code",
   "execution_count": null,
   "metadata": {},
   "outputs": [],
   "source": [
    "# i = 0\n",
    "# for c in df.columns:\n",
    "#     if c != 'isFraud':\n",
    "#         minV = df[c].min()\n",
    "#         maxV = df[c].max()\n",
    "#         for model in models:\n",
    "#             check_monotonicity(c,minV,maxV,example, model, 150, plot_graph=True)"
   ]
  },
  {
   "cell_type": "code",
   "execution_count": null,
   "metadata": {},
   "outputs": [],
   "source": [
    "# for model in models:\n",
    "#     calibration_check(\"isFraud\", model, df, True)"
   ]
  },
  {
   "cell_type": "code",
   "execution_count": null,
   "metadata": {},
   "outputs": [],
   "source": [
    "X = df.drop(['isFraud'], axis=1)\n",
    "teste_ = X.iloc[0:1]"
   ]
  },
  {
   "cell_type": "code",
   "execution_count": null,
   "metadata": {},
   "outputs": [],
   "source": [
    "teste_"
   ]
  },
  {
   "cell_type": "code",
   "execution_count": null,
   "metadata": {},
   "outputs": [],
   "source": [
    "\n",
    "\n",
    "c = \"step\"\n",
    "minV = X[c].min()\n",
    "maxV = X[c].max()\n",
    "aa = find_several_critical_values(LR, teste_, c, minV,maxV)\n",
    "    "
   ]
  },
  {
   "cell_type": "code",
   "execution_count": null,
   "metadata": {},
   "outputs": [],
   "source": [
    "aa.model_name"
   ]
  },
  {
   "cell_type": "code",
   "execution_count": null,
   "metadata": {},
   "outputs": [],
   "source": [
    "aa.analysed_feature"
   ]
  },
  {
   "cell_type": "code",
   "execution_count": null,
   "metadata": {},
   "outputs": [],
   "source": [
    "aa.feature_range"
   ]
  },
  {
   "cell_type": "code",
   "execution_count": null,
   "metadata": {},
   "outputs": [],
   "source": [
    "aa.metrics"
   ]
  },
  {
   "cell_type": "code",
   "execution_count": null,
   "metadata": {},
   "outputs": [],
   "source": [
    "aa.graphs"
   ]
  },
  {
   "cell_type": "code",
   "execution_count": null,
   "metadata": {},
   "outputs": [],
   "source": [
    "aa.save_graphs()"
   ]
  },
  {
   "cell_type": "code",
   "execution_count": null,
   "metadata": {},
   "outputs": [],
   "source": [
    "teste.analysed_feature"
   ]
  },
  {
   "cell_type": "code",
   "execution_count": null,
   "metadata": {},
   "outputs": [],
   "source": [
    "teste.metrics"
   ]
  },
  {
   "cell_type": "code",
   "execution_count": null,
   "metadata": {},
   "outputs": [],
   "source": [
    "teste.save_graphs()"
   ]
  }
 ],
 "metadata": {
  "kernelspec": {
   "display_name": "Python 3.9.13 ('base')",
   "language": "python",
   "name": "python3"
  },
  "language_info": {
   "codemirror_mode": {
    "name": "ipython",
    "version": 3
   },
   "file_extension": ".py",
   "mimetype": "text/x-python",
   "name": "python",
   "nbconvert_exporter": "python",
   "pygments_lexer": "ipython3",
   "version": "3.9.13"
  },
  "orig_nbformat": 4,
  "vscode": {
   "interpreter": {
    "hash": "1870f1194fb5b3d43b6d32e845741389586dbe9c4e1e45e17e0f6602cfe22778"
   }
  }
 },
 "nbformat": 4,
 "nbformat_minor": 2
}
