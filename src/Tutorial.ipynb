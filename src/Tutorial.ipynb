{
 "cells": [
  {
   "cell_type": "markdown",
   "metadata": {},
   "source": [
    "## Breast Cancer Dataset: Tutorial and Examples"
   ]
  },
  {
   "cell_type": "markdown",
   "metadata": {},
   "source": [
    "### **Imports**"
   ]
  },
  {
   "cell_type": "code",
   "execution_count": null,
   "metadata": {},
   "outputs": [],
   "source": [
    "import pandas as pd\n",
    "import numpy as np\n",
    "\n",
    "from mlbugdetection.load_data import load_dataset\n",
    "from mlbugdetection.monotonic import monotonicity_mse, check_monotonicity_single_sample, check_monotonicity_multiple_samples\n",
    "from mlbugdetection.critical_values import highest_and_lowest_indexes, find_critical_values, find_several_critical_values\n",
    "from mlbugdetection.calibration import calibration_check\n",
    "from mlbugdetection.sanity import sanity_check, sanity_check_with_indexes"
   ]
  },
  {
   "cell_type": "markdown",
   "metadata": {},
   "source": [
    "### **Load Data**\n",
    "#### First, divide the data into the categories of malignant and benign tumors"
   ]
  },
  {
   "cell_type": "code",
   "execution_count": null,
   "metadata": {},
   "outputs": [],
   "source": [
    "df = load_dataset()\n",
    "df.head(5)"
   ]
  },
  {
   "cell_type": "code",
   "execution_count": null,
   "metadata": {},
   "outputs": [],
   "source": [
    "mal = df[df.diagnosis == \"M\"]\n",
    "ben = df[df.diagnosis == \"B\"]"
   ]
  },
  {
   "cell_type": "code",
   "execution_count": null,
   "metadata": {},
   "outputs": [],
   "source": [
    "X_ben = ben.drop(columns=[\"diagnosis\"])\n",
    "X_ben.drop('id', axis=1, inplace=True) #drop redundant columns\n",
    "X_mal = mal.drop(columns=[\"diagnosis\"])\n",
    "X_mal.drop('id', axis=1, inplace=True) #drop redundant columns"
   ]
  },
  {
   "cell_type": "code",
   "execution_count": null,
   "metadata": {},
   "outputs": [],
   "source": [
    "single_sample_ben = X_ben.sample(1, random_state=42)\n",
    "single_sample_mal = X_mal.sample(1, random_state=42)"
   ]
  },
  {
   "cell_type": "code",
   "execution_count": null,
   "metadata": {},
   "outputs": [],
   "source": [
    "sample_ben = X_ben.sample(100, random_state=42)\n",
    "sample_mal = X_mal.sample(100, random_state=23)\n"
   ]
  },
  {
   "cell_type": "markdown",
   "metadata": {},
   "source": [
    "### Load the trained models that will be analyzed"
   ]
  },
  {
   "cell_type": "code",
   "execution_count": null,
   "metadata": {},
   "outputs": [],
   "source": [
    "model_path_knn = \"models/KNN/KNNBreastCancer.pkl\"\n",
    "model_path_nn = \"models/NN/NNBreastCancer.pkl\""
   ]
  },
  {
   "cell_type": "markdown",
   "metadata": {},
   "source": [
    "### **Monotonicity analysis**\n",
    "#### The monotonicity analysis module has two main functions: *check_monotonicity_single_sample* and *check_monotonicity_multiple_samples*.\n",
    "#### The function *check_monotonicity_single_sample* receives a model, a single sample (one dataframe row), the feature that will be analyzed, the value interval of this feature, and the number of points analysed between this interval\n",
    "#### The graph bellow shows that for a random sample of a benign tumor, the feature *perimeter_mean* has a monotonic behavior related to the prediction probability between the ranges 0 and 2000 using a MPLClassifier"
   ]
  },
  {
   "cell_type": "code",
   "execution_count": null,
   "metadata": {},
   "outputs": [],
   "source": [
    "report_ben_mono = check_monotonicity_single_sample(model_path_nn, single_sample_ben, \"perimeter_mean\", 0,200,200)"
   ]
  },
  {
   "cell_type": "markdown",
   "metadata": {},
   "source": [
    "#### For a similar example, but from a sample of a malignant tumor, the same feature presents a monotonic behavior as well"
   ]
  },
  {
   "cell_type": "code",
   "execution_count": null,
   "metadata": {},
   "outputs": [],
   "source": [
    "report_mal_mono = check_monotonicity_single_sample(model_path_nn, single_sample_mal, \"perimeter_mean\", 0,200,200)"
   ]
  },
  {
   "cell_type": "markdown",
   "metadata": {},
   "source": [
    "#### The function *check_monotonicity_multiple_samples* receives a model, a sample containing multiple dataframe rows, the feature that will be analyzed, the value interval of this feature, and the number of points analysed between this interval\n",
    "#### The graph bellow shows the mean prediction probability of the whole sample for each point analysed. In this case, the feature *area_mean* does not have a monotonic relationship with the mean prediction probability."
   ]
  },
  {
   "cell_type": "code",
   "execution_count": null,
   "metadata": {},
   "outputs": [],
   "source": [
    "report_ben_mono_mult_nn = check_monotonicity_multiple_samples(model_path_nn, X_ben, \"area_mean\", 0,2000,2000)"
   ]
  },
  {
   "cell_type": "markdown",
   "metadata": {},
   "source": [
    "#### It is hard to identify how close the data is to a monotonic behavior only visualizing the graph. The method \"monotonic_score\" of the analysis report helps identifying it."
   ]
  },
  {
   "cell_type": "code",
   "execution_count": null,
   "metadata": {},
   "outputs": [],
   "source": [
    "report_ben_mono_mult_nn.metrics"
   ]
  },
  {
   "cell_type": "markdown",
   "metadata": {},
   "source": [
    "#### The MSE between the aproximated monotonic curve and the real curve is so small that it is possible to consider the real curve as monotonic.\n",
    "#### Running the same sample in a KNN model shows a completely different result."
   ]
  },
  {
   "cell_type": "code",
   "execution_count": null,
   "metadata": {},
   "outputs": [],
   "source": [
    "report_ben_mono_mult_knn = check_monotonicity_multiple_samples(model_path_knn, X_ben, \"area_mean\", 0,2000,1000)"
   ]
  },
  {
   "cell_type": "code",
   "execution_count": null,
   "metadata": {},
   "outputs": [],
   "source": [
    "report_ben_mono_mult_knn.metrics"
   ]
  },
  {
   "cell_type": "markdown",
   "metadata": {},
   "source": [
    "### **Critical values analysis**\n",
    "#### The critical values analysis module has two main functions: *find_critical_values* and *find_several_critical_values*.\n",
    "#### The analysed feature will be again *area_mean*, and this module identifies data examples and feature ranges that generate the biggest changes in the model's prediction probability, which can sometimes result in classification changes.\n"
   ]
  },
  {
   "cell_type": "code",
   "execution_count": null,
   "metadata": {},
   "outputs": [],
   "source": [
    "#First it will be analysed the model's behavior using the feature range from the training data\n",
    "min_v = df[\"perimeter_mean\"].min()\n",
    "max_v = df[\"perimeter_mean\"].max()"
   ]
  },
  {
   "cell_type": "code",
   "execution_count": null,
   "metadata": {},
   "outputs": [],
   "source": [
    "teste2 = find_several_critical_values(model_path_nn, sample_mal, \"perimeter_mean\",min_v,max_v,200, keep_n = 100)"
   ]
  },
  {
   "cell_type": "code",
   "execution_count": null,
   "metadata": {},
   "outputs": [],
   "source": [
    "teste3 = find_several_critical_values(model_path_nn, sample_ben, \"perimeter_mean\", min_v,max_v,200, keep_n = 100)"
   ]
  },
  {
   "cell_type": "code",
   "execution_count": null,
   "metadata": {},
   "outputs": [],
   "source": [
    "print(len(teste2.metrics[\"critical_indexes\"]))\n",
    "print(len(teste3.metrics[\"critical_indexes\"]))"
   ]
  },
  {
   "cell_type": "code",
   "execution_count": null,
   "metadata": {},
   "outputs": [],
   "source": [
    "teste4 = find_several_critical_values(model_path_nn, sample_mal, \"perimeter_mean\",(min_v - (min_v * 1.5)),(max_v + (max_v * 1.5)),200, keep_n = 100)"
   ]
  },
  {
   "cell_type": "code",
   "execution_count": null,
   "metadata": {},
   "outputs": [],
   "source": [
    "teste5 = find_several_critical_values(model_path_nn, sample_ben, \"perimeter_mean\",(min_v - (min_v * 1.5)),(max_v + (max_v * 1.5)),200, keep_n = 100)"
   ]
  },
  {
   "cell_type": "code",
   "execution_count": null,
   "metadata": {},
   "outputs": [],
   "source": [
    "print(len(teste4.metrics[\"critical_indexes\"]))\n",
    "print(len(teste5.metrics[\"critical_indexes\"]))"
   ]
  }
 ],
 "metadata": {
  "kernelspec": {
   "display_name": "Python 3.10.4 64-bit",
   "language": "python",
   "name": "python3"
  },
  "language_info": {
   "codemirror_mode": {
    "name": "ipython",
    "version": 3
   },
   "file_extension": ".py",
   "mimetype": "text/x-python",
   "name": "python",
   "nbconvert_exporter": "python",
   "pygments_lexer": "ipython3",
   "version": "3.10.4"
  },
  "orig_nbformat": 4,
  "vscode": {
   "interpreter": {
    "hash": "d0a4d82deee81db9a0d09e308519aed460fc6b5372e2dfd7660684eac61088a6"
   }
  }
 },
 "nbformat": 4,
 "nbformat_minor": 2
}
