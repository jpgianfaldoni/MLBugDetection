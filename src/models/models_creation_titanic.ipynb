{
 "cells": [
  {
   "cell_type": "code",
   "execution_count": 5,
   "id": "d0c8eb05",
   "metadata": {
    "execution": {
     "iopub.execute_input": "2022-08-04T05:45:08.513200Z",
     "iopub.status.busy": "2022-08-04T05:45:08.512152Z",
     "iopub.status.idle": "2022-08-04T05:45:08.538771Z",
     "shell.execute_reply": "2022-08-04T05:45:08.537435Z"
    },
    "papermill": {
     "duration": 0.047315,
     "end_time": "2022-08-04T05:45:08.541503",
     "exception": false,
     "start_time": "2022-08-04T05:45:08.494188",
     "status": "completed"
    },
    "tags": []
   },
   "outputs": [],
   "source": [
    "# This Python 3 environment comes with many helpful analytics libraries installed\n",
    "# It is defined by the kaggle/python docker image: https://github.com/kaggle/docker-python\n",
    "# For example, here's several helpful packages to load in \n",
    "\n",
    "import numpy as np # linear algebra\n",
    "import pandas as pd # data processing, CSV file I/O (e.g. pd.read_csv)\n",
    "\n",
    "# Input data files are available in the \"../input/\" directory.\n",
    "# For example, running this (by clicking run or pressing Shift+Enter) will list all files under the input directory\n",
    "\n",
    "import os\n",
    "for dirname, _, filenames in os.walk('/kaggle/input'):\n",
    "    for filename in filenames:\n",
    "        print(os.path.join(dirname, filename))\n",
    "\n",
    "# Any results you write to the current directory are saved as output."
   ]
  },
  {
   "cell_type": "code",
   "execution_count": 6,
   "id": "0584f4fd",
   "metadata": {
    "execution": {
     "iopub.execute_input": "2022-08-04T05:45:08.575452Z",
     "iopub.status.busy": "2022-08-04T05:45:08.574759Z",
     "iopub.status.idle": "2022-08-04T05:45:09.741111Z",
     "shell.execute_reply": "2022-08-04T05:45:09.740261Z"
    },
    "papermill": {
     "duration": 1.185347,
     "end_time": "2022-08-04T05:45:09.743615",
     "exception": false,
     "start_time": "2022-08-04T05:45:08.558268",
     "status": "completed"
    },
    "tags": []
   },
   "outputs": [],
   "source": [
    "import numpy as np \n",
    "import pandas as pd\n",
    "import seaborn as sns \n",
    "import matplotlib.pyplot as plt\n",
    "%matplotlib inline\n",
    "\n",
    "import warnings\n",
    "warnings.filterwarnings('ignore')"
   ]
  },
  {
   "cell_type": "code",
   "execution_count": 7,
   "id": "6ff5f4ac",
   "metadata": {
    "execution": {
     "iopub.execute_input": "2022-08-04T05:45:09.821291Z",
     "iopub.status.busy": "2022-08-04T05:45:09.820835Z",
     "iopub.status.idle": "2022-08-04T05:45:09.924851Z",
     "shell.execute_reply": "2022-08-04T05:45:09.923806Z"
    },
    "papermill": {
     "duration": 0.122967,
     "end_time": "2022-08-04T05:45:09.927422",
     "exception": false,
     "start_time": "2022-08-04T05:45:09.804455",
     "status": "completed"
    },
    "tags": []
   },
   "outputs": [],
   "source": [
    "titanic = pd.read_csv('../../datasets/titanic.csv')\n"
   ]
  },
  {
   "cell_type": "code",
   "execution_count": 8,
   "id": "be2ac899",
   "metadata": {
    "execution": {
     "iopub.execute_input": "2022-08-04T05:45:13.317599Z",
     "iopub.status.busy": "2022-08-04T05:45:13.316866Z",
     "iopub.status.idle": "2022-08-04T05:45:13.323448Z",
     "shell.execute_reply": "2022-08-04T05:45:13.322538Z"
    },
    "papermill": {
     "duration": 0.032515,
     "end_time": "2022-08-04T05:45:13.325822",
     "exception": false,
     "start_time": "2022-08-04T05:45:13.293307",
     "status": "completed"
    },
    "tags": []
   },
   "outputs": [],
   "source": [
    "def missing_value (df):\n",
    "    missing_Number = df.isnull().sum().sort_values(ascending=False)[df.isnull().sum().sort_values(ascending=False) !=0]\n",
    "    missing_percent=round((df.isnull().sum()/df.isnull().count())*100,2)[round((df.isnull().sum()/df.isnull().count())*100,2) !=0]\n",
    "    missing = pd.concat([missing_Number,missing_percent],axis=1,keys=['Missing Number','Missing Percentage'])\n",
    "    return missing"
   ]
  },
  {
   "cell_type": "code",
   "execution_count": 9,
   "id": "e2ba1ce2",
   "metadata": {
    "execution": {
     "iopub.execute_input": "2022-08-04T05:45:16.825738Z",
     "iopub.status.busy": "2022-08-04T05:45:16.825045Z",
     "iopub.status.idle": "2022-08-04T05:45:16.831223Z",
     "shell.execute_reply": "2022-08-04T05:45:16.830363Z"
    },
    "papermill": {
     "duration": 0.037242,
     "end_time": "2022-08-04T05:45:16.833568",
     "exception": false,
     "start_time": "2022-08-04T05:45:16.796326",
     "status": "completed"
    },
    "tags": []
   },
   "outputs": [],
   "source": [
    "titanic['Age'] = titanic['Age'].fillna(titanic['Age'].mean())"
   ]
  },
  {
   "cell_type": "code",
   "execution_count": 10,
   "id": "c64d5e17",
   "metadata": {
    "execution": {
     "iopub.execute_input": "2022-08-04T05:45:16.887983Z",
     "iopub.status.busy": "2022-08-04T05:45:16.887327Z",
     "iopub.status.idle": "2022-08-04T05:45:16.904153Z",
     "shell.execute_reply": "2022-08-04T05:45:16.902955Z"
    },
    "papermill": {
     "duration": 0.04656,
     "end_time": "2022-08-04T05:45:16.906570",
     "exception": false,
     "start_time": "2022-08-04T05:45:16.860010",
     "status": "completed"
    },
    "tags": []
   },
   "outputs": [
    {
     "data": {
      "text/html": [
       "<div>\n",
       "<style scoped>\n",
       "    .dataframe tbody tr th:only-of-type {\n",
       "        vertical-align: middle;\n",
       "    }\n",
       "\n",
       "    .dataframe tbody tr th {\n",
       "        vertical-align: top;\n",
       "    }\n",
       "\n",
       "    .dataframe thead th {\n",
       "        text-align: right;\n",
       "    }\n",
       "</style>\n",
       "<table border=\"1\" class=\"dataframe\">\n",
       "  <thead>\n",
       "    <tr style=\"text-align: right;\">\n",
       "      <th></th>\n",
       "      <th>PassengerId</th>\n",
       "      <th>Survived</th>\n",
       "      <th>Pclass</th>\n",
       "      <th>Name</th>\n",
       "      <th>Sex</th>\n",
       "      <th>Age</th>\n",
       "      <th>SibSp</th>\n",
       "      <th>Parch</th>\n",
       "      <th>Ticket</th>\n",
       "      <th>Fare</th>\n",
       "      <th>Cabin</th>\n",
       "      <th>Embarked</th>\n",
       "    </tr>\n",
       "  </thead>\n",
       "  <tbody>\n",
       "    <tr>\n",
       "      <th>61</th>\n",
       "      <td>62</td>\n",
       "      <td>1</td>\n",
       "      <td>1</td>\n",
       "      <td>Icard, Miss. Amelie</td>\n",
       "      <td>female</td>\n",
       "      <td>38.0</td>\n",
       "      <td>0</td>\n",
       "      <td>0</td>\n",
       "      <td>113572</td>\n",
       "      <td>80.0</td>\n",
       "      <td>B28</td>\n",
       "      <td>NaN</td>\n",
       "    </tr>\n",
       "    <tr>\n",
       "      <th>829</th>\n",
       "      <td>830</td>\n",
       "      <td>1</td>\n",
       "      <td>1</td>\n",
       "      <td>Stone, Mrs. George Nelson (Martha Evelyn)</td>\n",
       "      <td>female</td>\n",
       "      <td>62.0</td>\n",
       "      <td>0</td>\n",
       "      <td>0</td>\n",
       "      <td>113572</td>\n",
       "      <td>80.0</td>\n",
       "      <td>B28</td>\n",
       "      <td>NaN</td>\n",
       "    </tr>\n",
       "  </tbody>\n",
       "</table>\n",
       "</div>"
      ],
      "text/plain": [
       "     PassengerId  Survived  Pclass                                       Name  \\\n",
       "61            62         1       1                        Icard, Miss. Amelie   \n",
       "829          830         1       1  Stone, Mrs. George Nelson (Martha Evelyn)   \n",
       "\n",
       "        Sex   Age  SibSp  Parch  Ticket  Fare Cabin Embarked  \n",
       "61   female  38.0      0      0  113572  80.0   B28      NaN  \n",
       "829  female  62.0      0      0  113572  80.0   B28      NaN  "
      ]
     },
     "execution_count": 10,
     "metadata": {},
     "output_type": "execute_result"
    }
   ],
   "source": [
    "titanic[titanic['Embarked'].isnull()]"
   ]
  },
  {
   "cell_type": "code",
   "execution_count": 11,
   "id": "e9c91e6f",
   "metadata": {
    "execution": {
     "iopub.execute_input": "2022-08-04T05:45:16.961890Z",
     "iopub.status.busy": "2022-08-04T05:45:16.960514Z",
     "iopub.status.idle": "2022-08-04T05:45:16.970968Z",
     "shell.execute_reply": "2022-08-04T05:45:16.970039Z"
    },
    "papermill": {
     "duration": 0.040707,
     "end_time": "2022-08-04T05:45:16.973529",
     "exception": false,
     "start_time": "2022-08-04T05:45:16.932822",
     "status": "completed"
    },
    "tags": []
   },
   "outputs": [],
   "source": [
    "titanic['Embarked'] = titanic['Embarked'].fillna(method='bfill')"
   ]
  },
  {
   "cell_type": "code",
   "execution_count": 12,
   "id": "b9302fc8",
   "metadata": {
    "execution": {
     "iopub.execute_input": "2022-08-04T05:45:17.028169Z",
     "iopub.status.busy": "2022-08-04T05:45:17.027355Z",
     "iopub.status.idle": "2022-08-04T05:45:17.034311Z",
     "shell.execute_reply": "2022-08-04T05:45:17.033187Z"
    },
    "papermill": {
     "duration": 0.037412,
     "end_time": "2022-08-04T05:45:17.036813",
     "exception": false,
     "start_time": "2022-08-04T05:45:16.999401",
     "status": "completed"
    },
    "tags": []
   },
   "outputs": [],
   "source": [
    "titanic = titanic.drop(['Cabin'],axis=1)"
   ]
  },
  {
   "cell_type": "code",
   "execution_count": 13,
   "id": "f1f3f7c8",
   "metadata": {
    "execution": {
     "iopub.execute_input": "2022-08-04T05:45:17.763202Z",
     "iopub.status.busy": "2022-08-04T05:45:17.762354Z",
     "iopub.status.idle": "2022-08-04T05:45:17.768931Z",
     "shell.execute_reply": "2022-08-04T05:45:17.768045Z"
    },
    "papermill": {
     "duration": 0.037473,
     "end_time": "2022-08-04T05:45:17.771334",
     "exception": false,
     "start_time": "2022-08-04T05:45:17.733861",
     "status": "completed"
    },
    "tags": []
   },
   "outputs": [],
   "source": [
    "titanic = titanic.drop(['Name','Ticket'],axis=1)"
   ]
  },
  {
   "cell_type": "code",
   "execution_count": 14,
   "id": "05cbe697",
   "metadata": {},
   "outputs": [
    {
     "data": {
      "text/plain": [
       "Index(['PassengerId', 'Survived', 'Pclass', 'Sex', 'Age', 'SibSp', 'Parch',\n",
       "       'Fare', 'Embarked'],\n",
       "      dtype='object')"
      ]
     },
     "execution_count": 14,
     "metadata": {},
     "output_type": "execute_result"
    }
   ],
   "source": [
    "titanic.columns"
   ]
  },
  {
   "cell_type": "code",
   "execution_count": 15,
   "id": "19c47bc7",
   "metadata": {
    "execution": {
     "iopub.execute_input": "2022-08-04T05:45:17.952047Z",
     "iopub.status.busy": "2022-08-04T05:45:17.951428Z",
     "iopub.status.idle": "2022-08-04T05:45:17.970489Z",
     "shell.execute_reply": "2022-08-04T05:45:17.969174Z"
    },
    "papermill": {
     "duration": 0.049849,
     "end_time": "2022-08-04T05:45:17.972868",
     "exception": false,
     "start_time": "2022-08-04T05:45:17.923019",
     "status": "completed"
    },
    "tags": []
   },
   "outputs": [
    {
     "data": {
      "text/html": [
       "<div>\n",
       "<style scoped>\n",
       "    .dataframe tbody tr th:only-of-type {\n",
       "        vertical-align: middle;\n",
       "    }\n",
       "\n",
       "    .dataframe tbody tr th {\n",
       "        vertical-align: top;\n",
       "    }\n",
       "\n",
       "    .dataframe thead th {\n",
       "        text-align: right;\n",
       "    }\n",
       "</style>\n",
       "<table border=\"1\" class=\"dataframe\">\n",
       "  <thead>\n",
       "    <tr style=\"text-align: right;\">\n",
       "      <th></th>\n",
       "      <th>PassengerId</th>\n",
       "      <th>Survived</th>\n",
       "      <th>Pclass</th>\n",
       "      <th>Age</th>\n",
       "      <th>SibSp</th>\n",
       "      <th>Parch</th>\n",
       "      <th>Fare</th>\n",
       "      <th>Sex_male</th>\n",
       "      <th>Embarked_Q</th>\n",
       "      <th>Embarked_S</th>\n",
       "    </tr>\n",
       "  </thead>\n",
       "  <tbody>\n",
       "    <tr>\n",
       "      <th>0</th>\n",
       "      <td>1</td>\n",
       "      <td>0</td>\n",
       "      <td>3</td>\n",
       "      <td>22.0</td>\n",
       "      <td>1</td>\n",
       "      <td>0</td>\n",
       "      <td>7.2500</td>\n",
       "      <td>1</td>\n",
       "      <td>0</td>\n",
       "      <td>1</td>\n",
       "    </tr>\n",
       "    <tr>\n",
       "      <th>1</th>\n",
       "      <td>2</td>\n",
       "      <td>1</td>\n",
       "      <td>1</td>\n",
       "      <td>38.0</td>\n",
       "      <td>1</td>\n",
       "      <td>0</td>\n",
       "      <td>71.2833</td>\n",
       "      <td>0</td>\n",
       "      <td>0</td>\n",
       "      <td>0</td>\n",
       "    </tr>\n",
       "    <tr>\n",
       "      <th>2</th>\n",
       "      <td>3</td>\n",
       "      <td>1</td>\n",
       "      <td>3</td>\n",
       "      <td>26.0</td>\n",
       "      <td>0</td>\n",
       "      <td>0</td>\n",
       "      <td>7.9250</td>\n",
       "      <td>0</td>\n",
       "      <td>0</td>\n",
       "      <td>1</td>\n",
       "    </tr>\n",
       "    <tr>\n",
       "      <th>3</th>\n",
       "      <td>4</td>\n",
       "      <td>1</td>\n",
       "      <td>1</td>\n",
       "      <td>35.0</td>\n",
       "      <td>1</td>\n",
       "      <td>0</td>\n",
       "      <td>53.1000</td>\n",
       "      <td>0</td>\n",
       "      <td>0</td>\n",
       "      <td>1</td>\n",
       "    </tr>\n",
       "    <tr>\n",
       "      <th>4</th>\n",
       "      <td>5</td>\n",
       "      <td>0</td>\n",
       "      <td>3</td>\n",
       "      <td>35.0</td>\n",
       "      <td>0</td>\n",
       "      <td>0</td>\n",
       "      <td>8.0500</td>\n",
       "      <td>1</td>\n",
       "      <td>0</td>\n",
       "      <td>1</td>\n",
       "    </tr>\n",
       "  </tbody>\n",
       "</table>\n",
       "</div>"
      ],
      "text/plain": [
       "   PassengerId  Survived  Pclass   Age  SibSp  Parch     Fare  Sex_male  \\\n",
       "0            1         0       3  22.0      1      0   7.2500         1   \n",
       "1            2         1       1  38.0      1      0  71.2833         0   \n",
       "2            3         1       3  26.0      0      0   7.9250         0   \n",
       "3            4         1       1  35.0      1      0  53.1000         0   \n",
       "4            5         0       3  35.0      0      0   8.0500         1   \n",
       "\n",
       "   Embarked_Q  Embarked_S  \n",
       "0           0           1  \n",
       "1           0           0  \n",
       "2           0           1  \n",
       "3           0           1  \n",
       "4           0           1  "
      ]
     },
     "execution_count": 15,
     "metadata": {},
     "output_type": "execute_result"
    }
   ],
   "source": [
    "titanic = pd.get_dummies(titanic,columns=['Sex','Embarked'],drop_first=True)\n",
    "titanic.head()"
   ]
  },
  {
   "cell_type": "code",
   "execution_count": 16,
   "id": "2d68c980",
   "metadata": {
    "execution": {
     "iopub.execute_input": "2022-08-04T05:45:18.084759Z",
     "iopub.status.busy": "2022-08-04T05:45:18.084301Z",
     "iopub.status.idle": "2022-08-04T05:45:18.091903Z",
     "shell.execute_reply": "2022-08-04T05:45:18.091061Z"
    },
    "papermill": {
     "duration": 0.039626,
     "end_time": "2022-08-04T05:45:18.094101",
     "exception": false,
     "start_time": "2022-08-04T05:45:18.054475",
     "status": "completed"
    },
    "tags": []
   },
   "outputs": [],
   "source": [
    "X = titanic.drop(['Survived'],axis=1) \n",
    "y = titanic['Survived']"
   ]
  },
  {
   "cell_type": "code",
   "execution_count": 33,
   "id": "405ca26d",
   "metadata": {},
   "outputs": [],
   "source": [
    "X.to_csv('Titanic2.csv', index=False)"
   ]
  },
  {
   "cell_type": "code",
   "execution_count": 18,
   "id": "f6ed07bd",
   "metadata": {
    "execution": {
     "iopub.execute_input": "2022-08-04T05:45:18.152171Z",
     "iopub.status.busy": "2022-08-04T05:45:18.151753Z",
     "iopub.status.idle": "2022-08-04T05:45:18.362817Z",
     "shell.execute_reply": "2022-08-04T05:45:18.361650Z"
    },
    "papermill": {
     "duration": 0.243495,
     "end_time": "2022-08-04T05:45:18.365783",
     "exception": false,
     "start_time": "2022-08-04T05:45:18.122288",
     "status": "completed"
    },
    "tags": []
   },
   "outputs": [],
   "source": [
    "from sklearn.model_selection import train_test_split\n",
    "X_train,X_test,y_train,y_test = train_test_split(X,y,test_size=0.2,random_state=21)"
   ]
  },
  {
   "cell_type": "code",
   "execution_count": 19,
   "id": "2dad3d4c",
   "metadata": {
    "execution": {
     "iopub.execute_input": "2022-08-04T05:45:18.477283Z",
     "iopub.status.busy": "2022-08-04T05:45:18.476062Z",
     "iopub.status.idle": "2022-08-04T05:45:18.488728Z",
     "shell.execute_reply": "2022-08-04T05:45:18.487644Z"
    },
    "papermill": {
     "duration": 0.044554,
     "end_time": "2022-08-04T05:45:18.491392",
     "exception": false,
     "start_time": "2022-08-04T05:45:18.446838",
     "status": "completed"
    },
    "tags": []
   },
   "outputs": [],
   "source": [
    "from sklearn.preprocessing import StandardScaler\n",
    "scaler = StandardScaler()\n",
    "X_train = scaler.fit_transform(X_train)\n",
    "X_test = scaler.transform(X_test)\n",
    "\n",
    "X_train = pd.DataFrame(X_train, columns=X.columns)\n",
    "X_test = pd.DataFrame(X_test, columns=X.columns)"
   ]
  },
  {
   "cell_type": "code",
   "execution_count": 20,
   "id": "25028ff5",
   "metadata": {},
   "outputs": [],
   "source": [
    "import pickle\n"
   ]
  },
  {
   "cell_type": "code",
   "execution_count": 21,
   "id": "4d309179",
   "metadata": {
    "execution": {
     "iopub.execute_input": "2022-08-04T05:45:18.776731Z",
     "iopub.status.busy": "2022-08-04T05:45:18.776357Z",
     "iopub.status.idle": "2022-08-04T05:45:18.877525Z",
     "shell.execute_reply": "2022-08-04T05:45:18.876041Z"
    },
    "papermill": {
     "duration": 0.133984,
     "end_time": "2022-08-04T05:45:18.880930",
     "exception": false,
     "start_time": "2022-08-04T05:45:18.746946",
     "status": "completed"
    },
    "tags": []
   },
   "outputs": [
    {
     "name": "stdout",
     "output_type": "stream",
     "text": [
      "Training Accuracy    : 80.2\n",
      "Model Accuracy Score : 79.89\n"
     ]
    }
   ],
   "source": [
    "from sklearn.metrics import accuracy_score\n",
    "# Logistic Regression\n",
    "from sklearn.linear_model import LogisticRegression\n",
    "logreg = LogisticRegression()\n",
    "logreg.fit(X_train, y_train)\n",
    "Y_pred = logreg.predict(X_test)\n",
    "\n",
    "log_train = round(logreg.score(X_train, y_train) * 100, 2)\n",
    "log_accuracy = round(accuracy_score(Y_pred, y_test) * 100, 2)\n",
    "\n",
    "print(\"Training Accuracy    :\",log_train)\n",
    "print(\"Model Accuracy Score :\",log_accuracy)"
   ]
  },
  {
   "cell_type": "code",
   "execution_count": 22,
   "id": "82933836",
   "metadata": {
    "execution": {
     "iopub.execute_input": "2022-08-04T05:45:18.996031Z",
     "iopub.status.busy": "2022-08-04T05:45:18.995284Z",
     "iopub.status.idle": "2022-08-04T05:45:19.045541Z",
     "shell.execute_reply": "2022-08-04T05:45:19.044083Z"
    },
    "papermill": {
     "duration": 0.082253,
     "end_time": "2022-08-04T05:45:19.048232",
     "exception": false,
     "start_time": "2022-08-04T05:45:18.965979",
     "status": "completed"
    },
    "tags": []
   },
   "outputs": [
    {
     "name": "stdout",
     "output_type": "stream",
     "text": [
      "Training Accuracy     : 85.11\n",
      "Model Accuracy Score  : 80.45\n"
     ]
    }
   ],
   "source": [
    "# Support Vector Machines\n",
    "from sklearn.svm import SVC\n",
    "svc = SVC()\n",
    "svc.fit(X_train, y_train)\n",
    "Y_pred = svc.predict(X_test)\n",
    "\n",
    "svc_train = round(svc.score(X_train, y_train) * 100, 2)\n",
    "svc_accuracy = round(accuracy_score(Y_pred, y_test) * 100, 2)\n",
    "\n",
    "print(\"Training Accuracy     :\",svc_train)\n",
    "print(\"Model Accuracy Score  :\",svc_accuracy)"
   ]
  },
  {
   "cell_type": "code",
   "execution_count": 23,
   "id": "275a242c",
   "metadata": {
    "execution": {
     "iopub.execute_input": "2022-08-04T05:45:19.185737Z",
     "iopub.status.busy": "2022-08-04T05:45:19.184696Z",
     "iopub.status.idle": "2022-08-04T05:45:19.279386Z",
     "shell.execute_reply": "2022-08-04T05:45:19.278033Z"
    },
    "papermill": {
     "duration": 0.133589,
     "end_time": "2022-08-04T05:45:19.282836",
     "exception": false,
     "start_time": "2022-08-04T05:45:19.149247",
     "status": "completed"
    },
    "tags": []
   },
   "outputs": [
    {
     "name": "stdout",
     "output_type": "stream",
     "text": [
      "Training Accuracy     : 90.03\n",
      "Model Accuracy Score  : 75.98\n"
     ]
    }
   ],
   "source": [
    "from sklearn.neighbors import KNeighborsClassifier\n",
    "knn = KNeighborsClassifier(n_neighbors = 3)\n",
    "knn.fit(X_train, y_train)\n",
    "Y_pred = knn.predict(X_test)\n",
    "\n",
    "knn_train = round(knn.score(X_train, y_train) * 100, 2)\n",
    "knn_accuracy = round(accuracy_score(Y_pred, y_test) * 100, 2)\n",
    "\n",
    "print(\"Training Accuracy     :\",knn_train)\n",
    "print(\"Model Accuracy Score  :\",knn_accuracy)"
   ]
  },
  {
   "cell_type": "code",
   "execution_count": 24,
   "id": "e607bb12",
   "metadata": {
    "execution": {
     "iopub.execute_input": "2022-08-04T05:45:19.397655Z",
     "iopub.status.busy": "2022-08-04T05:45:19.396689Z",
     "iopub.status.idle": "2022-08-04T05:45:19.414505Z",
     "shell.execute_reply": "2022-08-04T05:45:19.412753Z"
    },
    "papermill": {
     "duration": 0.049243,
     "end_time": "2022-08-04T05:45:19.416737",
     "exception": false,
     "start_time": "2022-08-04T05:45:19.367494",
     "status": "completed"
    },
    "tags": []
   },
   "outputs": [
    {
     "name": "stdout",
     "output_type": "stream",
     "text": [
      "Training Accuracy     : 79.21\n",
      "Model Accuracy Score  : 81.56\n"
     ]
    }
   ],
   "source": [
    "# Gaussian Naive Bayes\n",
    "from sklearn.naive_bayes import GaussianNB\n",
    "gaussian = GaussianNB()\n",
    "gaussian.fit(X_train, y_train)\n",
    "Y_pred = gaussian.predict(X_test)\n",
    "\n",
    "gaussian_train = round(gaussian.score(X_train, y_train) * 100, 2)\n",
    "gaussian_accuracy = round(accuracy_score(Y_pred, y_test) * 100, 2)\n",
    "\n",
    "print(\"Training Accuracy     :\",gaussian_train)\n",
    "print(\"Model Accuracy Score  :\",gaussian_accuracy)"
   ]
  },
  {
   "cell_type": "code",
   "execution_count": 25,
   "id": "50ab08c5",
   "metadata": {
    "execution": {
     "iopub.execute_input": "2022-08-04T05:45:19.532258Z",
     "iopub.status.busy": "2022-08-04T05:45:19.531848Z",
     "iopub.status.idle": "2022-08-04T05:45:19.547684Z",
     "shell.execute_reply": "2022-08-04T05:45:19.546203Z"
    },
    "papermill": {
     "duration": 0.049223,
     "end_time": "2022-08-04T05:45:19.551289",
     "exception": false,
     "start_time": "2022-08-04T05:45:19.502066",
     "status": "completed"
    },
    "tags": []
   },
   "outputs": [
    {
     "name": "stdout",
     "output_type": "stream",
     "text": [
      "Training Accuracy    : 73.17\n",
      "Model Accuracy Score : 72.07\n"
     ]
    }
   ],
   "source": [
    "# Perceptron\n",
    "\n",
    "from sklearn.linear_model import Perceptron\n",
    "perceptron = Perceptron()\n",
    "perceptron.fit(X_train, y_train)\n",
    "Y_pred = perceptron.predict(X_test)\n",
    "\n",
    "\n",
    "perceptron_train = round(perceptron.score(X_train, y_train) * 100, 2)\n",
    "perceptron_accuracy = round(accuracy_score(Y_pred, y_test) * 100, 2)\n",
    "\n",
    "print(\"Training Accuracy    :\",perceptron_train)\n",
    "print(\"Model Accuracy Score :\",perceptron_accuracy)"
   ]
  },
  {
   "cell_type": "code",
   "execution_count": 26,
   "id": "fee73b13",
   "metadata": {
    "execution": {
     "iopub.execute_input": "2022-08-04T05:45:19.665219Z",
     "iopub.status.busy": "2022-08-04T05:45:19.664815Z",
     "iopub.status.idle": "2022-08-04T05:45:19.718267Z",
     "shell.execute_reply": "2022-08-04T05:45:19.717320Z"
    },
    "papermill": {
     "duration": 0.085482,
     "end_time": "2022-08-04T05:45:19.720446",
     "exception": false,
     "start_time": "2022-08-04T05:45:19.634964",
     "status": "completed"
    },
    "tags": []
   },
   "outputs": [
    {
     "name": "stdout",
     "output_type": "stream",
     "text": [
      "Training Accuracy    : 80.34\n",
      "Model Accuracy Score : 81.01\n"
     ]
    }
   ],
   "source": [
    "# Linear SVC\n",
    "from sklearn.svm import LinearSVC\n",
    "linear_svc = LinearSVC()\n",
    "linear_svc.fit(X_train, y_train)\n",
    "Y_pred = linear_svc.predict(X_test)\n",
    "\n",
    "linear_svc_train = round(linear_svc.score(X_train, y_train) * 100, 2)\n",
    "linear_svc_accuracy = round(accuracy_score(Y_pred, y_test) * 100, 2)\n",
    "\n",
    "print(\"Training Accuracy    :\",linear_svc_train)\n",
    "print(\"Model Accuracy Score :\",linear_svc_accuracy)"
   ]
  },
  {
   "cell_type": "code",
   "execution_count": 27,
   "id": "1565ccf1",
   "metadata": {
    "execution": {
     "iopub.execute_input": "2022-08-04T05:45:19.834933Z",
     "iopub.status.busy": "2022-08-04T05:45:19.834221Z",
     "iopub.status.idle": "2022-08-04T05:45:19.850175Z",
     "shell.execute_reply": "2022-08-04T05:45:19.849063Z"
    },
    "papermill": {
     "duration": 0.047562,
     "end_time": "2022-08-04T05:45:19.852508",
     "exception": false,
     "start_time": "2022-08-04T05:45:19.804946",
     "status": "completed"
    },
    "tags": []
   },
   "outputs": [
    {
     "name": "stdout",
     "output_type": "stream",
     "text": [
      "Training Accuracy     : 78.23\n",
      "Model Accuracy Score  : 78.21\n"
     ]
    }
   ],
   "source": [
    "# Stochastic Gradient Descent\n",
    "from sklearn.linear_model import SGDClassifier\n",
    "sgd = SGDClassifier()\n",
    "sgd.fit(X_train, y_train)\n",
    "Y_pred = sgd.predict(X_test)\n",
    "\n",
    "sgd_train = round(sgd.score(X_train, y_train) * 100, 2)\n",
    "sgd_accuracy = round(accuracy_score(Y_pred, y_test) * 100, 2)\n",
    "\n",
    "print(\"Training Accuracy     :\",sgd_train)\n",
    "print(\"Model Accuracy Score  :\",sgd_accuracy)"
   ]
  },
  {
   "cell_type": "code",
   "execution_count": 28,
   "id": "c3717451",
   "metadata": {
    "execution": {
     "iopub.execute_input": "2022-08-04T05:45:19.969438Z",
     "iopub.status.busy": "2022-08-04T05:45:19.968664Z",
     "iopub.status.idle": "2022-08-04T05:45:20.012181Z",
     "shell.execute_reply": "2022-08-04T05:45:20.011075Z"
    },
    "papermill": {
     "duration": 0.075747,
     "end_time": "2022-08-04T05:45:20.014542",
     "exception": false,
     "start_time": "2022-08-04T05:45:19.938795",
     "status": "completed"
    },
    "tags": []
   },
   "outputs": [
    {
     "name": "stdout",
     "output_type": "stream",
     "text": [
      "Training Accuracy     : 100.0\n",
      "Model Accuracy Score  : 71.51\n"
     ]
    }
   ],
   "source": [
    "# Decision Tree\n",
    "from sklearn.tree import DecisionTreeClassifier\n",
    "decision = DecisionTreeClassifier()\n",
    "decision.fit(X_train, y_train)\n",
    "Y_pred = decision.predict(X_test)\n",
    "\n",
    "decision_train = round(decision.score(X_train, y_train) * 100, 2)\n",
    "decision_accuracy = round(accuracy_score(Y_pred, y_test) * 100, 2)\n",
    "\n",
    "print(\"Training Accuracy     :\",decision_train)\n",
    "print(\"Model Accuracy Score  :\",decision_accuracy)"
   ]
  },
  {
   "cell_type": "code",
   "execution_count": 29,
   "id": "8132130e",
   "metadata": {
    "execution": {
     "iopub.execute_input": "2022-08-04T05:45:20.131619Z",
     "iopub.status.busy": "2022-08-04T05:45:20.130870Z",
     "iopub.status.idle": "2022-08-04T05:45:20.476623Z",
     "shell.execute_reply": "2022-08-04T05:45:20.475331Z"
    },
    "papermill": {
     "duration": 0.378462,
     "end_time": "2022-08-04T05:45:20.479378",
     "exception": false,
     "start_time": "2022-08-04T05:45:20.100916",
     "status": "completed"
    },
    "tags": []
   },
   "outputs": [
    {
     "name": "stdout",
     "output_type": "stream",
     "text": [
      "Training Accuracy     : 100.0\n",
      "Model Accuracy Score  : 79.33\n"
     ]
    }
   ],
   "source": [
    "# Random Forest\n",
    "from sklearn.ensemble import RandomForestClassifier\n",
    "random_forest = RandomForestClassifier(n_estimators=100)\n",
    "random_forest.fit(X_train, y_train)\n",
    "Y_pred = random_forest.predict(X_test)\n",
    "random_forest.score(X_train, y_train)\n",
    "\n",
    "random_forest_train = round(random_forest.score(X_train, y_train) * 100, 2)\n",
    "random_forest_accuracy = round(accuracy_score(Y_pred, y_test) * 100, 2)\n",
    "\n",
    "print(\"Training Accuracy     :\",random_forest_train)\n",
    "print(\"Model Accuracy Score  :\",random_forest_accuracy)"
   ]
  },
  {
   "cell_type": "code",
   "execution_count": 30,
   "id": "fe92b28c",
   "metadata": {
    "execution": {
     "iopub.execute_input": "2022-08-04T05:45:20.595974Z",
     "iopub.status.busy": "2022-08-04T05:45:20.595272Z",
     "iopub.status.idle": "2022-08-04T05:45:22.104763Z",
     "shell.execute_reply": "2022-08-04T05:45:22.103241Z"
    },
    "papermill": {
     "duration": 1.54419,
     "end_time": "2022-08-04T05:45:22.108855",
     "exception": false,
     "start_time": "2022-08-04T05:45:20.564665",
     "status": "completed"
    },
    "tags": []
   },
   "outputs": [
    {
     "name": "stdout",
     "output_type": "stream",
     "text": [
      "Training Accuracy     : 86.38\n",
      "Model Accuracy Score  : 79.89\n"
     ]
    }
   ],
   "source": [
    "# MLPClassifier\n",
    "from sklearn.neural_network import MLPClassifier\n",
    "mlp = MLPClassifier()\n",
    "mlp.fit(X_train,y_train)\n",
    "Y_pred = mlp.predict(X_test)\n",
    "mlp.score(X_train, y_train)\n",
    "\n",
    "\n",
    "mlp_train = round(mlp.score(X_train, y_train) * 100, 2)\n",
    "mlp_accuracy = round(accuracy_score(Y_pred, y_test) * 100, 2)\n",
    "\n",
    "print(\"Training Accuracy     :\",mlp_train)\n",
    "print(\"Model Accuracy Score  :\",mlp_accuracy)"
   ]
  },
  {
   "cell_type": "code",
   "execution_count": 31,
   "id": "0e5dfca0",
   "metadata": {
    "execution": {
     "iopub.execute_input": "2022-08-04T05:45:22.301700Z",
     "iopub.status.busy": "2022-08-04T05:45:22.301171Z",
     "iopub.status.idle": "2022-08-04T05:45:23.483940Z",
     "shell.execute_reply": "2022-08-04T05:45:23.482675Z"
    },
    "papermill": {
     "duration": 1.225082,
     "end_time": "2022-08-04T05:45:23.486560",
     "exception": false,
     "start_time": "2022-08-04T05:45:22.261478",
     "status": "completed"
    },
    "tags": []
   },
   "outputs": [
    {
     "name": "stdout",
     "output_type": "stream",
     "text": [
      "Training Accuracy     : 100.0\n",
      "Model Accuracy Score  : 77.65\n"
     ]
    }
   ],
   "source": [
    "import xgboost as Xgb\n",
    "xgb = Xgb.XGBClassifier()\n",
    "xgb.fit(X_train,y_train)\n",
    "Y_pred = xgb.predict(X_test)\n",
    "xgb.score(X_train, y_train)\n",
    "\n",
    "xgb_train = round(xgb.score(X_train, y_train) * 100, 2)\n",
    "xgb_accuracy = round(accuracy_score(Y_pred, y_test) * 100, 2)\n",
    "\n",
    "print(\"Training Accuracy     :\",xgb_train)\n",
    "print(\"Model Accuracy Score  :\",xgb_accuracy)"
   ]
  },
  {
   "cell_type": "code",
   "execution_count": 32,
   "id": "3bfcb02f",
   "metadata": {},
   "outputs": [],
   "source": [
    "# Save Models\n",
    "with open('XGBoost/XGboostTitanic.pkl', 'wb') as f:\n",
    "    pickle.dump(xgb, f)\n",
    "with open('RandomForest/RandomForestTitanic.pkl', 'wb') as f:\n",
    "    pickle.dump(random_forest, f)\n",
    "with open('LogisticRegression/LogisticRegressionTitanic.pkl', 'wb') as f:\n",
    "    pickle.dump(logreg, f)\n",
    "with open('SVM/SVMTitanic.pkl', 'wb') as f:\n",
    "    pickle.dump(svc, f)\n",
    "with open('KNN/KNNTitanic.pkl', 'wb') as f:\n",
    "    pickle.dump(knn, f)\n",
    "    "
   ]
  }
 ],
 "metadata": {
  "kernelspec": {
   "display_name": "Python 3.10.4 64-bit",
   "language": "python",
   "name": "python3"
  },
  "language_info": {
   "codemirror_mode": {
    "name": "ipython",
    "version": 3
   },
   "file_extension": ".py",
   "mimetype": "text/x-python",
   "name": "python",
   "nbconvert_exporter": "python",
   "pygments_lexer": "ipython3",
   "version": "3.10.4"
  },
  "papermill": {
   "default_parameters": {},
   "duration": 26.674108,
   "end_time": "2022-08-04T05:45:25.268882",
   "environment_variables": {},
   "exception": null,
   "input_path": "__notebook__.ipynb",
   "output_path": "__notebook__.ipynb",
   "parameters": {},
   "start_time": "2022-08-04T05:44:58.594774",
   "version": "2.3.4"
  },
  "vscode": {
   "interpreter": {
    "hash": "d0a4d82deee81db9a0d09e308519aed460fc6b5372e2dfd7660684eac61088a6"
   }
  }
 },
 "nbformat": 4,
 "nbformat_minor": 5
}
