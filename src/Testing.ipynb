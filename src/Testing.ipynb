{
 "cells": [
  {
   "cell_type": "code",
   "execution_count": null,
   "metadata": {},
   "outputs": [],
   "source": [
    "import pandas as pd\n",
    "import numpy as np\n",
    "import pickle\n",
    "import random\n",
    "from matplotlib import pyplot as plt\n",
    "from monotonic_check import monotonicity_score, check_monotonicity\n",
    "from critical_values_finder import find_critical_values, highest_and_lowest_indexes\n",
    "from calibration_check import calibration_check"
   ]
  },
  {
   "cell_type": "code",
   "execution_count": null,
   "metadata": {},
   "outputs": [],
   "source": [
    "#manter plots salver disco\n",
    "#classe "
   ]
  },
  {
   "cell_type": "code",
   "execution_count": null,
   "metadata": {},
   "outputs": [],
   "source": [
    "with open('models/XGBoost/XGBoost.pkl', 'rb') as f:\n",
    "    XGBoost = pickle.load(f)\n",
    "with open('models/LogisticRegression/LogisticRegression.pkl', 'rb') as f:\n",
    "    LR = pickle.load(f)\n",
    "with open('models/RandomForest/RandomForest.pkl', 'rb') as f:\n",
    "    RF = pickle.load(f)\n",
    "models = [XGBoost, LR, RF]\n"
   ]
  },
  {
   "cell_type": "code",
   "execution_count": null,
   "metadata": {},
   "outputs": [],
   "source": [
    "df = pd.read_csv('../datasets/fraud_new.csv')\n",
    "example = df.sample(1)\n",
    "example = example.drop('isFraud', axis = 1)"
   ]
  },
  {
   "cell_type": "code",
   "execution_count": null,
   "metadata": {},
   "outputs": [],
   "source": [
    "for c in df.columns:\n",
    "    if c != 'isFraud':\n",
    "        minV = df[c].min()\n",
    "        maxV = df[c].max()\n",
    "        for model in models:\n",
    "            find_critical_values(model, example, c, minV, maxV, )"
   ]
  },
  {
   "cell_type": "code",
   "execution_count": null,
   "metadata": {},
   "outputs": [],
   "source": [
    "for c in df.columns:\n",
    "    if c != 'isFraud':\n",
    "        minV = df[c].min()\n",
    "        maxV = df[c].max()\n",
    "        for model in models:\n",
    "            check_monotonicity(c,minV,maxV,example, model, 150, plot_graph=True)"
   ]
  },
  {
   "cell_type": "code",
   "execution_count": null,
   "metadata": {},
   "outputs": [],
   "source": [
    "import math\n",
    "v3= [1,2,3,4,5,6,7,8,9,10,11,12,13,14,15,14,15,16,17,18,17,18,19,20,19,20,21,22,23,24,25,26,25,26,27,28,29,30,31,35,37,40,43,50,60]\n",
    "plt.plot([x for x in range(len(v3))], v3)\n",
    "plt.show()\n",
    "print(monotonicity_score(v3))\n",
    "v = [1,2,3,4,5,6,7,8,7,6,5,4,3,2,1,2,3,4,5,6,7,8,9] \n",
    "plt.plot([x for x in range(len(v))], v)\n",
    "plt.show()\n",
    "print(monotonicity_score(v))\n",
    "v2= [1,2,3,2,1,3,4,5,6,5,4,6,7,8,9,8,10]\n",
    "plt.plot([x for x in range(len(v2))], v2)\n",
    "plt.show()\n",
    "print(monotonicity_score(v2))\n"
   ]
  },
  {
   "cell_type": "code",
   "execution_count": null,
   "metadata": {},
   "outputs": [],
   "source": [
    "for model in models:\n",
    "    calibration_check(\"isFraud\", model, df, True)"
   ]
  }
 ],
 "metadata": {
  "kernelspec": {
   "display_name": "Python 3.10.4 64-bit",
   "language": "python",
   "name": "python3"
  },
  "language_info": {
   "codemirror_mode": {
    "name": "ipython",
    "version": 3
   },
   "file_extension": ".py",
   "mimetype": "text/x-python",
   "name": "python",
   "nbconvert_exporter": "python",
   "pygments_lexer": "ipython3",
   "version": "3.10.4"
  },
  "orig_nbformat": 4,
  "vscode": {
   "interpreter": {
    "hash": "d0a4d82deee81db9a0d09e308519aed460fc6b5372e2dfd7660684eac61088a6"
   }
  }
 },
 "nbformat": 4,
 "nbformat_minor": 2
}
