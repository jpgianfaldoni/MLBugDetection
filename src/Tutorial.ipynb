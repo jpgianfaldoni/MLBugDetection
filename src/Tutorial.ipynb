{
 "cells": [
  {
   "cell_type": "code",
   "execution_count": null,
   "metadata": {},
   "outputs": [],
   "source": [
    "import pandas as pd\n",
    "import pandas as pd\n",
    "import numpy as np\n",
    "import pickle\n",
    "import random\n",
    "from matplotlib import pyplot as plt\n",
    "\n",
    "# !pip uninstall mlbugdetection\n",
    "# import mlbugdetection\n",
    "from mlbugdetection.monotonic import monotonicity_mse, check_monotonicity_single_sample, check_monotonicity_multiple_samples\n",
    "from mlbugdetection.critical_values import find_critical_values, highest_and_lowest_indexes\n",
    "from mlbugdetection.calibration import calibration_check\n",
    "from mlbugdetection.sanity import sanity_check\n",
    "from mlbugdetection.load_data import load_dataset"
   ]
  },
  {
   "cell_type": "code",
   "execution_count": null,
   "metadata": {},
   "outputs": [],
   "source": [
    "df = load_dataset()\n",
    "df.head(5)"
   ]
  },
  {
   "cell_type": "code",
   "execution_count": null,
   "metadata": {},
   "outputs": [],
   "source": [
    "good = df[df.diagnosis == \"M\"]\n",
    "bad = df[df.diagnosis == \"B\"]"
   ]
  },
  {
   "cell_type": "code",
   "execution_count": null,
   "metadata": {},
   "outputs": [],
   "source": [
    "X_good = good.drop(columns=[\"diagnosis\"])\n",
    "X_good.drop('id', axis=1, inplace=True) #drop redundant columns\n",
    "X_bad = bad.drop(columns=[\"diagnosis\"])\n",
    "X_bad.drop('id', axis=1, inplace=True) #drop redundant columns"
   ]
  },
  {
   "cell_type": "code",
   "execution_count": null,
   "metadata": {},
   "outputs": [],
   "source": [
    "sample_good = X_good.sample(1)\n",
    "sample_bad = X_good.sample(1)\n"
   ]
  },
  {
   "cell_type": "code",
   "execution_count": null,
   "metadata": {},
   "outputs": [],
   "source": [
    "model_path_lg = \"models/LogisticRegression/LGBreastCancer.pkl\"\n",
    "model_path_knn = \"models/KNN/KNNBreastCancer.pkl\"\n",
    "model_path_xg = \"models/XGBoost/XGBoostBreastCancer.pkl\""
   ]
  },
  {
   "cell_type": "code",
   "execution_count": null,
   "metadata": {},
   "outputs": [],
   "source": [
    "report_lg_good = check_monotonicity_single_sample(model_path_lg, sample_good, \"perimeter_mean\", 0,10000,1000)"
   ]
  },
  {
   "cell_type": "code",
   "execution_count": null,
   "metadata": {},
   "outputs": [],
   "source": [
    "report_lg_bad = check_monotonicity_single_sample(model_path_lg, sample_bad, \"perimeter_mean\", 0,10000,1000)"
   ]
  },
  {
   "cell_type": "code",
   "execution_count": null,
   "metadata": {},
   "outputs": [],
   "source": [
    "report_knn_good  = check_monotonicity_single_sample(model_path_knn, sample_good, \"perimeter_mean\", 0,10000,1000)"
   ]
  },
  {
   "cell_type": "code",
   "execution_count": null,
   "metadata": {},
   "outputs": [],
   "source": [
    "report_knn_bad  = check_monotonicity_single_sample(model_path_knn, sample_bad, \"perimeter_mean\", 0,10000,1000)"
   ]
  },
  {
   "cell_type": "code",
   "execution_count": null,
   "metadata": {},
   "outputs": [],
   "source": [
    "report_xg_good  = check_monotonicity_single_sample(model_path_xg, sample_good, \"perimeter_mean\", 0,10000,1000)"
   ]
  },
  {
   "cell_type": "code",
   "execution_count": null,
   "metadata": {},
   "outputs": [],
   "source": [
    "report_lg_mult_good = check_monotonicity_multiple_samples(model_path_lg, X_good, \"perimeter_mean\", 0, 10000,1000)"
   ]
  },
  {
   "cell_type": "code",
   "execution_count": null,
   "metadata": {},
   "outputs": [],
   "source": [
    "report_lg_mult_bad = check_monotonicity_multiple_samples(model_path_lg, X_bad, \"perimeter_mean\", 0, 10000,1000)"
   ]
  },
  {
   "cell_type": "code",
   "execution_count": null,
   "metadata": {},
   "outputs": [],
   "source": [
    "report_knn_mult_good = check_monotonicity_multiple_samples(model_path_knn, X_good, \"perimeter_mean\", 0, 10000,1000)"
   ]
  },
  {
   "cell_type": "code",
   "execution_count": null,
   "metadata": {},
   "outputs": [],
   "source": [
    "report_knn_mult_bad = check_monotonicity_multiple_samples(model_path_knn, X_bad, \"perimeter_mean\", 0, 10000,1000)"
   ]
  },
  {
   "cell_type": "code",
   "execution_count": null,
   "metadata": {},
   "outputs": [],
   "source": [
    "report_xg_mult_good = check_monotonicity_multiple_samples(model_path_xg, X_good, \"perimeter_mean\", 0, 10000,1000)"
   ]
  },
  {
   "cell_type": "code",
   "execution_count": null,
   "metadata": {},
   "outputs": [],
   "source": [
    "report_xg_mult_bad = check_monotonicity_multiple_samples(model_path_xg, X_bad, \"perimeter_mean\", 0, 10000,1000)"
   ]
  }
 ],
 "metadata": {
  "kernelspec": {
   "display_name": "Python 3.10.4 64-bit",
   "language": "python",
   "name": "python3"
  },
  "language_info": {
   "codemirror_mode": {
    "name": "ipython",
    "version": 3
   },
   "file_extension": ".py",
   "mimetype": "text/x-python",
   "name": "python",
   "nbconvert_exporter": "python",
   "pygments_lexer": "ipython3",
   "version": "3.10.4"
  },
  "orig_nbformat": 4,
  "vscode": {
   "interpreter": {
    "hash": "d0a4d82deee81db9a0d09e308519aed460fc6b5372e2dfd7660684eac61088a6"
   }
  }
 },
 "nbformat": 4,
 "nbformat_minor": 2
}
