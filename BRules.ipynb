{
 "cells": [
  {
   "cell_type": "code",
   "execution_count": 1,
   "metadata": {},
   "outputs": [],
   "source": [
    "import pandas as pd\n",
    "import numpy as np\n",
    "import pickle\n",
    "import random\n"
   ]
  },
  {
   "cell_type": "code",
   "execution_count": 2,
   "metadata": {},
   "outputs": [],
   "source": [
    "with open('Modelos/XGBoost/XGBoost.pkl', 'rb') as f:\n",
    "    XGBoost = pickle.load(f)\n",
    "with open('Modelos/LogisticRegression/LogisticRegression.pkl', 'rb') as f:\n",
    "    LR = pickle.load(f)\n",
    "with open('Modelos/RandomForest/RandomForest.pkl', 'rb') as f:\n",
    "    RF = pickle.load(f)"
   ]
  },
  {
   "cell_type": "code",
   "execution_count": 3,
   "metadata": {},
   "outputs": [],
   "source": [
    "full_df = pd.read_csv('Datasets/fraud_new.csv')\n"
   ]
  },
  {
   "cell_type": "code",
   "execution_count": 4,
   "metadata": {},
   "outputs": [
    {
     "data": {
      "text/html": [
       "<div>\n",
       "<style scoped>\n",
       "    .dataframe tbody tr th:only-of-type {\n",
       "        vertical-align: middle;\n",
       "    }\n",
       "\n",
       "    .dataframe tbody tr th {\n",
       "        vertical-align: top;\n",
       "    }\n",
       "\n",
       "    .dataframe thead th {\n",
       "        text-align: right;\n",
       "    }\n",
       "</style>\n",
       "<table border=\"1\" class=\"dataframe\">\n",
       "  <thead>\n",
       "    <tr style=\"text-align: right;\">\n",
       "      <th></th>\n",
       "      <th>step</th>\n",
       "      <th>type</th>\n",
       "      <th>amount</th>\n",
       "      <th>oldBalanceOrig</th>\n",
       "      <th>newBalanceOrig</th>\n",
       "      <th>oldBalanceDest</th>\n",
       "      <th>newBalanceDest</th>\n",
       "      <th>isFraud</th>\n",
       "      <th>errorBalanceOrig</th>\n",
       "      <th>errorBalanceDest</th>\n",
       "    </tr>\n",
       "  </thead>\n",
       "  <tbody>\n",
       "    <tr>\n",
       "      <th>0</th>\n",
       "      <td>1</td>\n",
       "      <td>0</td>\n",
       "      <td>181.00</td>\n",
       "      <td>181.0</td>\n",
       "      <td>0.0</td>\n",
       "      <td>0.0</td>\n",
       "      <td>0.00</td>\n",
       "      <td>1</td>\n",
       "      <td>0.00</td>\n",
       "      <td>181.0</td>\n",
       "    </tr>\n",
       "    <tr>\n",
       "      <th>1</th>\n",
       "      <td>1</td>\n",
       "      <td>1</td>\n",
       "      <td>181.00</td>\n",
       "      <td>181.0</td>\n",
       "      <td>0.0</td>\n",
       "      <td>21182.0</td>\n",
       "      <td>0.00</td>\n",
       "      <td>1</td>\n",
       "      <td>0.00</td>\n",
       "      <td>21363.0</td>\n",
       "    </tr>\n",
       "    <tr>\n",
       "      <th>2</th>\n",
       "      <td>1</td>\n",
       "      <td>1</td>\n",
       "      <td>229133.94</td>\n",
       "      <td>15325.0</td>\n",
       "      <td>0.0</td>\n",
       "      <td>5083.0</td>\n",
       "      <td>51513.44</td>\n",
       "      <td>0</td>\n",
       "      <td>213808.94</td>\n",
       "      <td>182703.5</td>\n",
       "    </tr>\n",
       "    <tr>\n",
       "      <th>3</th>\n",
       "      <td>1</td>\n",
       "      <td>0</td>\n",
       "      <td>215310.30</td>\n",
       "      <td>705.0</td>\n",
       "      <td>0.0</td>\n",
       "      <td>22425.0</td>\n",
       "      <td>0.00</td>\n",
       "      <td>0</td>\n",
       "      <td>214605.30</td>\n",
       "      <td>237735.3</td>\n",
       "    </tr>\n",
       "    <tr>\n",
       "      <th>4</th>\n",
       "      <td>1</td>\n",
       "      <td>0</td>\n",
       "      <td>311685.89</td>\n",
       "      <td>10835.0</td>\n",
       "      <td>0.0</td>\n",
       "      <td>6267.0</td>\n",
       "      <td>2719172.89</td>\n",
       "      <td>0</td>\n",
       "      <td>300850.89</td>\n",
       "      <td>-2401220.0</td>\n",
       "    </tr>\n",
       "  </tbody>\n",
       "</table>\n",
       "</div>"
      ],
      "text/plain": [
       "   step  type     amount  oldBalanceOrig  newBalanceOrig  oldBalanceDest  \\\n",
       "0     1     0     181.00           181.0             0.0             0.0   \n",
       "1     1     1     181.00           181.0             0.0         21182.0   \n",
       "2     1     1  229133.94         15325.0             0.0          5083.0   \n",
       "3     1     0  215310.30           705.0             0.0         22425.0   \n",
       "4     1     0  311685.89         10835.0             0.0          6267.0   \n",
       "\n",
       "   newBalanceDest  isFraud  errorBalanceOrig  errorBalanceDest  \n",
       "0            0.00        1              0.00             181.0  \n",
       "1            0.00        1              0.00           21363.0  \n",
       "2        51513.44        0         213808.94          182703.5  \n",
       "3            0.00        0         214605.30          237735.3  \n",
       "4      2719172.89        0         300850.89        -2401220.0  "
      ]
     },
     "execution_count": 4,
     "metadata": {},
     "output_type": "execute_result"
    }
   ],
   "source": [
    "full_df.head()"
   ]
  },
  {
   "cell_type": "code",
   "execution_count": 5,
   "metadata": {},
   "outputs": [],
   "source": [
    "X = full_df.drop(['isFraud'], axis=1)"
   ]
  },
  {
   "cell_type": "code",
   "execution_count": 6,
   "metadata": {},
   "outputs": [
    {
     "data": {
      "text/html": [
       "<div>\n",
       "<style scoped>\n",
       "    .dataframe tbody tr th:only-of-type {\n",
       "        vertical-align: middle;\n",
       "    }\n",
       "\n",
       "    .dataframe tbody tr th {\n",
       "        vertical-align: top;\n",
       "    }\n",
       "\n",
       "    .dataframe thead th {\n",
       "        text-align: right;\n",
       "    }\n",
       "</style>\n",
       "<table border=\"1\" class=\"dataframe\">\n",
       "  <thead>\n",
       "    <tr style=\"text-align: right;\">\n",
       "      <th></th>\n",
       "      <th>step</th>\n",
       "      <th>type</th>\n",
       "      <th>amount</th>\n",
       "      <th>oldBalanceOrig</th>\n",
       "      <th>newBalanceOrig</th>\n",
       "      <th>oldBalanceDest</th>\n",
       "      <th>newBalanceDest</th>\n",
       "      <th>errorBalanceOrig</th>\n",
       "      <th>errorBalanceDest</th>\n",
       "    </tr>\n",
       "  </thead>\n",
       "  <tbody>\n",
       "    <tr>\n",
       "      <th>0</th>\n",
       "      <td>1</td>\n",
       "      <td>0</td>\n",
       "      <td>181.0</td>\n",
       "      <td>181.0</td>\n",
       "      <td>0.0</td>\n",
       "      <td>0.0</td>\n",
       "      <td>0.0</td>\n",
       "      <td>0.0</td>\n",
       "      <td>181.0</td>\n",
       "    </tr>\n",
       "  </tbody>\n",
       "</table>\n",
       "</div>"
      ],
      "text/plain": [
       "   step  type  amount  oldBalanceOrig  newBalanceOrig  oldBalanceDest  \\\n",
       "0     1     0   181.0           181.0             0.0             0.0   \n",
       "\n",
       "   newBalanceDest  errorBalanceOrig  errorBalanceDest  \n",
       "0             0.0               0.0             181.0  "
      ]
     },
     "execution_count": 6,
     "metadata": {},
     "output_type": "execute_result"
    }
   ],
   "source": [
    "subset = full_df.loc[(X[\"oldBalanceOrig\"] == full_df[\"amount\"]) & (full_df['isFraud'] == 1)]\n",
    "subset = subset.drop(['isFraud'], axis=1)\n",
    "example = subset.loc[[0]]\n",
    "example"
   ]
  },
  {
   "cell_type": "code",
   "execution_count": 7,
   "metadata": {},
   "outputs": [],
   "source": [
    "def check_two_columns_equality_df(df, col1, col2, fraud):\n",
    "    subset = df.loc[(df[col1] == df[col2]) & (df['isFraud'] == fraud)]\n",
    "    if subset.empty:\n",
    "        print(\"No cases found that violate conditions\")\n",
    "    else:\n",
    "        print(\"Found a subset that violates condition\")\n",
    "    return subset"
   ]
  },
  {
   "cell_type": "code",
   "execution_count": 8,
   "metadata": {},
   "outputs": [],
   "source": [
    "def check_two_columns_equality_model(model,example, col1, col2, fraud):\n",
    "    tests = []\n",
    "    for i in range(40):\n",
    "        x = example.copy()\n",
    "        x[col1] = example[col1] + i ** 3\n",
    "        x[col2] = x[col1]\n",
    "        tests.append(x.copy())\n",
    "    results = []\n",
    "    for t in tests:\n",
    "        r = model.predict_proba(t)\n",
    "        if (r[0][0]) < (r[0][1]):\n",
    "            results.append(fraud)\n",
    "        else:\n",
    "            results.append(not fraud)\n",
    "    if (not fraud) in results:\n",
    "        print(\"Found cases that violate conditions\")\n",
    "    else:\n",
    "        print(\"No cases found that violate conditions\")\n",
    "    return results\n",
    "\n",
    "    "
   ]
  },
  {
   "cell_type": "code",
   "execution_count": 9,
   "metadata": {},
   "outputs": [],
   "source": [
    "def check_monotonic(model, col, example, positive = True):\n",
    "    y = example\n",
    "    testes = []\n",
    "    results = []\n",
    "    for c in example.columns:\n",
    "        y[c] = X[c].mean()\n",
    "    y[col] = 0\n",
    "    for i in range(1,100000, 5000):\n",
    "        y[col] = i\n",
    "        testes.append(y.copy())\n",
    "    for t in testes:\n",
    "        r = model.predict_proba(t)\n",
    "        results.append(r[0][1])\n",
    "    if positive:\n",
    "        for i in range(1,len(testes)-1):\n",
    "            if results[i-1] <= results[i]:\n",
    "                return False\n",
    "    else:\n",
    "        for i in range(1,len(testes)-1):\n",
    "            if results[i-1] > results[i]:\n",
    "                return False\n",
    "    return True"
   ]
  },
  {
   "cell_type": "code",
   "execution_count": 10,
   "metadata": {},
   "outputs": [
    {
     "name": "stdout",
     "output_type": "stream",
     "text": [
      "Found cases that violate conditions\n",
      "[False, False, False, False, False, False, False, False, False, False, 1, 1, 1, 1, 1, 1, 1, 1, 1, 1, 1, 1, 1, 1, 1, 1, 1, 1, 1, 1, 1, 1, 1, 1, 1, 1, 1, 1, 1, 1]\n"
     ]
    }
   ],
   "source": [
    "print(check_two_columns_equality_model(LR, example, 'amount', 'oldBalanceOrig', 1))\n"
   ]
  },
  {
   "cell_type": "code",
   "execution_count": 11,
   "metadata": {},
   "outputs": [
    {
     "name": "stdout",
     "output_type": "stream",
     "text": [
      "[6.528896493355201e-13, 6.106154141689068e-13, 5.710784117961354e-13, 5.341014079434655e-13, 4.995186441560423e-13, 4.671750947451212e-13, 4.369257718475326e-13, 4.0863507548216834e-13, 3.821761856899265e-13, 3.574304940322592e-13, 3.3428707189986506e-13, 3.12642173248094e-13, 2.9239876952995184e-13, 2.7346611474193045e-13, 2.5575933863287387e-13, 2.3919906625233975e-13, 2.2371106213299035e-13, 2.092258975119678e-13, 1.9567863909950525e-13, 1.83008557999586e-13]\n",
      "True\n"
     ]
    }
   ],
   "source": [
    "print(check_monotonic(LR, 'amount', example))"
   ]
  }
 ],
 "metadata": {
  "kernelspec": {
   "display_name": "Python 3.10.4 64-bit",
   "language": "python",
   "name": "python3"
  },
  "language_info": {
   "codemirror_mode": {
    "name": "ipython",
    "version": 3
   },
   "file_extension": ".py",
   "mimetype": "text/x-python",
   "name": "python",
   "nbconvert_exporter": "python",
   "pygments_lexer": "ipython3",
   "version": "3.10.4"
  },
  "orig_nbformat": 4,
  "vscode": {
   "interpreter": {
    "hash": "d0a4d82deee81db9a0d09e308519aed460fc6b5372e2dfd7660684eac61088a6"
   }
  }
 },
 "nbformat": 4,
 "nbformat_minor": 2
}
