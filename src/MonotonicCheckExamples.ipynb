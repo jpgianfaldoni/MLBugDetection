{
 "cells": [
  {
   "cell_type": "code",
   "execution_count": null,
   "metadata": {},
   "outputs": [],
   "source": [
    "import pandas as pd\n",
    "import numpy as np\n",
    "import pickle\n",
    "import random\n",
    "from matplotlib import pyplot as plt\n",
    "from numpy import diff\n",
    "from MonotonicCheck import monotonicity_score, check_monotonicity\n"
   ]
  },
  {
   "cell_type": "code",
   "execution_count": null,
   "metadata": {},
   "outputs": [],
   "source": [
    "with open('models/XGBoost/XGBoost.pkl', 'rb') as f:\n",
    "    XGBoost = pickle.load(f)\n",
    "with open('models/LogisticRegression/LogisticRegression.pkl', 'rb') as f:\n",
    "    LR = pickle.load(f)\n",
    "with open('models/RandomForest/RandomForest.pkl', 'rb') as f:\n",
    "    RF = pickle.load(f)"
   ]
  },
  {
   "cell_type": "code",
   "execution_count": null,
   "metadata": {},
   "outputs": [],
   "source": [
    "with open('models/XGBoost/XGBoostTitanic.pkl', 'rb') as f:\n",
    "    XGBoostTitanic = pickle.load(f)\n",
    "with open('models/LogisticRegression/LogisticRegressionTitanic.pkl', 'rb') as f:\n",
    "    LRTitanic = pickle.load(f)\n",
    "with open('models/RandomForest/RandomForestTitanic.pkl', 'rb') as f:\n",
    "    RFTitanic = pickle.load(f)\n",
    "with open('models/SVM/SVMTitanic.pkl', 'rb') as f:\n",
    "    SVMTitanic = pickle.load(f)\n",
    "with open('models/KNN/KNNTitanic.pkl', 'rb') as f:\n",
    "    KNNTitanic = pickle.load(f)"
   ]
  },
  {
   "cell_type": "code",
   "execution_count": null,
   "metadata": {},
   "outputs": [],
   "source": [
    "df = pd.read_csv('../datasets/fraud_new.csv')\n",
    "titanic = pd.read_csv('../datasets/Titanic2.csv')"
   ]
  },
  {
   "cell_type": "code",
   "execution_count": null,
   "metadata": {},
   "outputs": [],
   "source": [
    "df.head(1)"
   ]
  },
  {
   "cell_type": "code",
   "execution_count": null,
   "metadata": {},
   "outputs": [],
   "source": [
    "example = df.sample(1)\n",
    "example\n",
    "frauds = df[df.isFraud == 1]\n",
    "exampleFraud = frauds.sample(1)\n",
    "example = example.drop('isFraud', axis = 1)\n",
    "exampleFraud = exampleFraud.drop('isFraud', axis = 1)"
   ]
  },
  {
   "cell_type": "code",
   "execution_count": null,
   "metadata": {},
   "outputs": [],
   "source": [
    "cycles = 2 # how many sine cycles\n",
    "resolution = 150 # how many datapoints to generate\n",
    "\n",
    "length = np.pi * 2 * cycles\n",
    "my_wave = np.sin(np.arange(0, length, length / resolution))"
   ]
  },
  {
   "cell_type": "code",
   "execution_count": null,
   "metadata": {},
   "outputs": [],
   "source": [
    "import math\n",
    "v = [1,2,3,4,5,6,7,8,7,6,5,4,3,2,1,2,3,4,5,6,7,8,9] \n",
    "plt.plot([x for x in range(len(v))], v)\n",
    "plt.show()\n",
    "print(monotonicity_score(v))\n"
   ]
  },
  {
   "cell_type": "code",
   "execution_count": null,
   "metadata": {},
   "outputs": [],
   "source": [
    "v= [1,2,3,2,1,3,4,5,6,5,4,6,7,8,9,8,7,10]\n",
    "plt.plot([x for x in range(len(v))], v)\n",
    "plt.show()\n",
    "print(monotonicity_score(v))\n"
   ]
  },
  {
   "cell_type": "code",
   "execution_count": null,
   "metadata": {},
   "outputs": [],
   "source": [
    "v = [1,2,3,4,5,6,7,8,9,10,11,12,13,14,15,16,17,18,19,20]\n",
    "plt.plot([x for x in range(len(v))], v)\n",
    "plt.show()\n",
    "print(monotonicity_score(v))\n"
   ]
  },
  {
   "cell_type": "code",
   "execution_count": null,
   "metadata": {},
   "outputs": [],
   "source": [
    "models = [XGBoost, LR, RF]\n",
    "modelsTitanic = [XGBoostTitanic,LRTitanic, RFTitanic, KNNTitanic]"
   ]
  },
  {
   "cell_type": "code",
   "execution_count": null,
   "metadata": {},
   "outputs": [],
   "source": [
    "for c in df.columns:\n",
    "    if c != 'isFraud':\n",
    "        minV = df[c].min()\n",
    "        maxV = df[c].max()\n",
    "        for model in models:\n",
    "            check_monotonicity(c,minV,maxV,exampleFraud, model, 150, plot_graph=True)\n"
   ]
  },
  {
   "cell_type": "code",
   "execution_count": null,
   "metadata": {},
   "outputs": [],
   "source": [
    "print(titanic.columns)"
   ]
  },
  {
   "cell_type": "code",
   "execution_count": null,
   "metadata": {},
   "outputs": [],
   "source": [
    "exampleTitanic = titanic.sample(1)"
   ]
  },
  {
   "cell_type": "code",
   "execution_count": null,
   "metadata": {},
   "outputs": [],
   "source": [
    "exampleTitanic"
   ]
  },
  {
   "cell_type": "code",
   "execution_count": null,
   "metadata": {},
   "outputs": [],
   "source": [
    "for c in titanic.columns:\n",
    "    if titanic[c].dtypes != object:\n",
    "        minV = titanic[c].min()\n",
    "        maxV = titanic[c].max()\n",
    "        print(c, minV, maxV)\n",
    "        for model in modelsTitanic:\n",
    "            check_monotonicity(c,minV,maxV,exampleTitanic, model, 150, plot_graph=True)"
   ]
  }
 ],
 "metadata": {
  "kernelspec": {
   "display_name": "Python 3.10.4 64-bit",
   "language": "python",
   "name": "python3"
  },
  "language_info": {
   "codemirror_mode": {
    "name": "ipython",
    "version": 3
   },
   "file_extension": ".py",
   "mimetype": "text/x-python",
   "name": "python",
   "nbconvert_exporter": "python",
   "pygments_lexer": "ipython3",
   "version": "3.10.4"
  },
  "orig_nbformat": 4,
  "vscode": {
   "interpreter": {
    "hash": "d0a4d82deee81db9a0d09e308519aed460fc6b5372e2dfd7660684eac61088a6"
   }
  }
 },
 "nbformat": 4,
 "nbformat_minor": 2
}
