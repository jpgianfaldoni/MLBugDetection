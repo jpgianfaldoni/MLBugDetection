{
 "cells": [
  {
   "cell_type": "code",
   "execution_count": null,
   "metadata": {},
   "outputs": [],
   "source": [
    "import pandas as pd\n",
    "import numpy as np\n",
    "import pickle\n",
    "import random\n",
    "from matplotlib import pyplot as plt\n",
    "\n",
    "# !pip install mlbugdetection\n",
    "# import mlbugdetection\n",
    "from mlbugdetection.monotonic import monotonicity_mse, check_monotonicity\n",
    "from mlbugdetection.critical_values import find_critical_values, highest_and_lowest_indexes\n",
    "from mlbugdetection.calibration import calibration_check\n",
    "from mlbugdetection.sanity import sanity_check"
   ]
  },
  {
   "cell_type": "code",
   "execution_count": null,
   "metadata": {},
   "outputs": [],
   "source": [
    "#manter plots salver disco\n",
    "#classe "
   ]
  },
  {
   "cell_type": "code",
   "execution_count": null,
   "metadata": {},
   "outputs": [],
   "source": [
    "with open('models/XGBoost/XGBoost.pkl', 'rb') as f:\n",
    "    XGBoost = pickle.load(f)\n",
    "with open('models/LogisticRegression/LogisticRegression.pkl', 'rb') as f:\n",
    "    LR = pickle.load(f)\n",
    "with open('models/RandomForest/RandomForest.pkl', 'rb') as f:\n",
    "    RF = pickle.load(f)\n",
    "with open('models/SVM/SVMTitanic.pkl', 'rb') as f:\n",
    "    SVM = pickle.load(f)\n",
    "models = [XGBoost, LR, RF]\n"
   ]
  },
  {
   "cell_type": "code",
   "execution_count": null,
   "metadata": {},
   "outputs": [],
   "source": [
    "df = pd.read_csv('../datasets/fraud_new.csv')\n",
    "df_titanic = pd.read_csv('../datasets/TitanicClean.csv')\n",
    "example = df.sample(1)\n",
    "example = example.drop('isFraud', axis = 1)"
   ]
  },
  {
   "cell_type": "code",
   "execution_count": null,
   "metadata": {},
   "outputs": [],
   "source": [
    "example_titanic = df_titanic.sample(1)"
   ]
  },
  {
   "cell_type": "code",
   "execution_count": null,
   "metadata": {},
   "outputs": [],
   "source": [
    "for c in df_titanic.columns:\n",
    "    if c != 'isFraud':\n",
    "        minV = df_titanic[c].min()\n",
    "        maxV = df_titanic[c].max()\n",
    "        teste = check_monotonicity(c,minV,maxV,example_titanic, SVM, 150)\n",
    "    break"
   ]
  },
  {
   "cell_type": "code",
   "execution_count": null,
   "metadata": {},
   "outputs": [],
   "source": [
    "print(teste)\n",
    "teste.save_graphs()"
   ]
  },
  {
   "cell_type": "code",
   "execution_count": null,
   "metadata": {},
   "outputs": [],
   "source": [
    "print(teste.errors)\n",
    "print(teste.warnings)\n",
    "print(teste.metrics)\n",
    "print(teste.model_info)"
   ]
  },
  {
   "cell_type": "code",
   "execution_count": null,
   "metadata": {},
   "outputs": [],
   "source": [
    "for c in df_titanic.columns:\n",
    "    if c != 'isFraud':\n",
    "        minV = 100\n",
    "        maxV = 100\n",
    "        find_critical_values(SVM, example_titanic, c, minV, maxV, step = 1000 )"
   ]
  },
  {
   "cell_type": "code",
   "execution_count": null,
   "metadata": {},
   "outputs": [],
   "source": [
    "for c in df.columns:\n",
    "    if c != 'isFraud':\n",
    "        minV = df[c].min()\n",
    "        maxV = df[c].max()\n",
    "        for model in models:\n",
    "            teste3 = find_critical_values(model, example, c, minV, maxV )\n",
    "    break"
   ]
  },
  {
   "cell_type": "code",
   "execution_count": null,
   "metadata": {},
   "outputs": [],
   "source": [
    "for c in df.columns:\n",
    "    if c != 'isFraud':\n",
    "        minV = df[c].min()\n",
    "        maxV = df[c].max()\n",
    "        for model in models:\n",
    "            # check_monotonicity(c,minV,maxV,example, model, 150, plot_graph=True)\n",
    "            check_monotonicity(c,minV,maxV,example, model, 150)"
   ]
  },
  {
   "cell_type": "code",
   "execution_count": null,
   "metadata": {},
   "outputs": [],
   "source": [
    "for model in models:\n",
    "    teste2 = calibration_check(\"isFraud\", model, df)\n",
    "    break"
   ]
  },
  {
   "cell_type": "code",
   "execution_count": null,
   "metadata": {},
   "outputs": [],
   "source": [
    "teste2.save_graphs()"
   ]
  },
  {
   "cell_type": "code",
   "execution_count": null,
   "metadata": {},
   "outputs": [],
   "source": [
    "teste2.graphs"
   ]
  }
 ],
 "metadata": {
  "kernelspec": {
   "display_name": "Python 3.10.6 64-bit (microsoft store)",
   "language": "python",
   "name": "python3"
  },
  "language_info": {
   "codemirror_mode": {
    "name": "ipython",
    "version": 3
   },
   "file_extension": ".py",
   "mimetype": "text/x-python",
   "name": "python",
   "nbconvert_exporter": "python",
   "pygments_lexer": "ipython3",
   "version": "3.10.6"
  },
  "orig_nbformat": 4,
  "vscode": {
   "interpreter": {
    "hash": "970abb1aa500516e602ecbb4cfb7dea7bc4d134d3c58454769ed100db73fe7f9"
   }
  }
 },
 "nbformat": 4,
 "nbformat_minor": 2
}
