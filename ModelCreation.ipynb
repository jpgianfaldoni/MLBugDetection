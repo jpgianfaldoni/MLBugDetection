{
  "cells": [
    {
      "cell_type": "markdown",
      "metadata": {
        "id": "H_F2PDax4KZo"
      },
      "source": [
        "\n",
        "\n",
        "Links de Referência:\n",
        "- Código: https://www.kaggle.com/code/arjunjoshua/predicting-fraud-in-financial-payment-services\n",
        "- Dataset: https://www.kaggle.com/datasets/ealaxi/paysim1"
      ]
    },
    {
      "cell_type": "code",
      "execution_count": 84,
      "metadata": {
        "id": "Gfigjl_o4Jbg"
      },
      "outputs": [],
      "source": []
    },
    {
      "cell_type": "markdown",
      "metadata": {
        "id": "cyFwIL_34Kv8"
      },
      "source": [
        "# Regras de Negócio\n",
        "\n",
        "Regra 1 (Step) DATASET/MODELO:\n",
        "- Se step é múltiplo de 332, a transação é fraudulenta\n",
        "\n",
        "Regra 2 (Type) - APENAS PARA DATASET: \n",
        "- Se \"type\" for CASH-IN, PAYMENT ou DEBIT, a transação não é fraudulenta.\n",
        "\n",
        "Regra 3 (Amount):\n",
        "- Amount tem que ter relação monotônica\n",
        "\n",
        "Regra 4 (nameDest, nameOrig) APENAS PARA DATASET:\n",
        "- Um nome específico nunca é fraude\n",
        "\n",
        "Regra 5 (oldBalanceOrig, newBalanceOrig):\n",
        "- Se o amount for igual ao oldBalanceOrig, é uma fraude.\n",
        "\n",
        "Regra 6 (oldBalanceDest, newBalanceDest):\n",
        "- Se a diferença desses dois valores é maior que 1 milhão, é fraude"
      ]
    },
    {
      "cell_type": "code",
      "execution_count": null,
      "metadata": {
        "id": "colJXIO64LBl"
      },
      "outputs": [],
      "source": []
    },
    {
      "cell_type": "markdown",
      "metadata": {
        "id": "0CQGcjvK4LdC"
      },
      "source": []
    },
    {
      "cell_type": "code",
      "execution_count": 1,
      "metadata": {
        "id": "EnSVcj2S4MAV"
      },
      "outputs": [],
      "source": [
        "import pandas as pd\n",
        "import numpy as np\n",
        "%matplotlib inline\n",
        "import matplotlib.pyplot as plt\n",
        "import matplotlib.lines as mlines\n",
        "from mpl_toolkits.mplot3d import Axes3D\n",
        "import seaborn as sns\n",
        "from sklearn.model_selection import train_test_split, learning_curve\n",
        "from sklearn.metrics import average_precision_score\n",
        "from sklearn.metrics import classification_report\n",
        "import sys"
      ]
    },
    {
      "cell_type": "code",
      "execution_count": 6,
      "metadata": {
        "colab": {
          "base_uri": "https://localhost:8080/"
        },
        "id": "mZbPvyA5FKKH",
        "outputId": "a6801f5e-8bac-4217-cb6f-7e2c9038483b"
      },
      "outputs": [
        {
          "name": "stdout",
          "output_type": "stream",
          "text": [
            "   step      type    amount     nameOrig  oldBalanceOrig  newBalanceOrig  \\\n",
            "0     1   PAYMENT   9839.64  C1231006815        170136.0       160296.36   \n",
            "1     1   PAYMENT   1864.28  C1666544295         21249.0        19384.72   \n",
            "2     1  TRANSFER    181.00  C1305486145           181.0            0.00   \n",
            "3     1  CASH_OUT    181.00   C840083671           181.0            0.00   \n",
            "4     1   PAYMENT  11668.14  C2048537720         41554.0        29885.86   \n",
            "\n",
            "      nameDest  oldBalanceDest  newBalanceDest  isFraud  isFlaggedFraud  \n",
            "0  M1979787155             0.0             0.0        0               0  \n",
            "1  M2044282225             0.0             0.0        0               0  \n",
            "2   C553264065             0.0             0.0        1               0  \n",
            "3    C38997010         21182.0             0.0        1               0  \n",
            "4  M1230701703             0.0             0.0        0               0  \n"
          ]
        }
      ],
      "source": [
        "df = pd.read_csv('Datasets/fraud.csv')\n",
        "df = df.rename(columns={'oldbalanceOrg':'oldBalanceOrig', 'newbalanceOrig':'newBalanceOrig', \\\n",
        "                        'oldbalanceDest':'oldBalanceDest', 'newbalanceDest':'newBalanceDest'})\n",
        "print(df.head())"
      ]
    },
    {
      "cell_type": "code",
      "execution_count": 7,
      "metadata": {
        "id": "PhEBfBQtFPZ0"
      },
      "outputs": [],
      "source": [
        "X = df.loc[(df.type == 'TRANSFER') | (df.type == 'CASH_OUT')]\n",
        "\n",
        "X.to_csv('fraud_new.csv',index=False)\n",
        "randomState = 5\n",
        "np.random.seed(randomState)\n",
        "\n",
        "#X = X.loc[np.random.choice(X.index, 100000, replace = False)]\n",
        "\n",
        "# Eliminate columns shown to be irrelevant for analysis in the EDA\n",
        "X = X.drop(['nameOrig', 'nameDest', 'isFlaggedFraud'], axis = 1)\n",
        "\n",
        "# Binary-encoding of labelled data in 'type'\n",
        "X.loc[X.type == 'TRANSFER', 'type'] = 0\n",
        "X.loc[X.type == 'CASH_OUT', 'type'] = 1\n",
        "X.type = X.type.astype(int) # convert dtype('O') to dtype(int)\n",
        "X = X.fillna(0)\n"
      ]
    },
    {
      "cell_type": "markdown",
      "metadata": {
        "id": "INONBa7lceqO"
      },
      "source": [
        "# New Section"
      ]
    },
    {
      "cell_type": "code",
      "execution_count": 9,
      "metadata": {
        "id": "QqgbBy4RFWFH"
      },
      "outputs": [],
      "source": [
        "X['errorBalanceOrig'] = X.newBalanceOrig + X.amount - X.oldBalanceOrig\n",
        "X['errorBalanceDest'] = X.oldBalanceDest + X.amount - X.newBalanceDest\n",
        "X.to_csv('fraud_new.csv',index=False)\n"
      ]
    },
    {
      "cell_type": "code",
      "execution_count": null,
      "metadata": {},
      "outputs": [],
      "source": [
        "Y = X['isFraud']\n",
        "del X['isFraud']"
      ]
    },
    {
      "cell_type": "code",
      "execution_count": 6,
      "metadata": {
        "id": "6gYviT4zk8L4"
      },
      "outputs": [],
      "source": [
        "trainX, testX, trainY, testY = train_test_split(X, Y, test_size = 0.2, \\\n",
        "                                                random_state = randomState)"
      ]
    },
    {
      "cell_type": "code",
      "execution_count": 7,
      "metadata": {
        "id": "58d1GAwQk-Vm"
      },
      "outputs": [],
      "source": [
        "from xgboost.sklearn import XGBClassifier\n",
        "from xgboost import plot_importance, to_graphviz\n",
        "from sklearn.ensemble import RandomForestClassifier\n",
        "from sklearn.linear_model import LogisticRegression\n"
      ]
    },
    {
      "cell_type": "code",
      "execution_count": 8,
      "metadata": {
        "colab": {
          "base_uri": "https://localhost:8080/"
        },
        "id": "KwsH12sSk_0x",
        "outputId": "a46fd6f2-4816-474d-f8da-d27613cd0461"
      },
      "outputs": [
        {
          "name": "stdout",
          "output_type": "stream",
          "text": [
            "AUPRC = 0.9985477076036875\n"
          ]
        }
      ],
      "source": [
        "weights = (Y == 0).sum() / (1.0 * (Y == 1).sum())\n",
        "clf = XGBClassifier(max_depth = 3, scale_pos_weight = weights, \\\n",
        "                n_jobs = 4)\n",
        "probabilities = clf.fit(trainX, trainY).predict_proba(testX)\n",
        "print('AUPRC = {}'.format(average_precision_score(testY, \\\n",
        "                                              probabilities[:, 1])))"
      ]
    },
    {
      "cell_type": "code",
      "execution_count": 9,
      "metadata": {
        "id": "7_S3NChtOuxS"
      },
      "outputs": [],
      "source": [
        "LR = LogisticRegression(random_state=0).fit(trainX, trainY)\n",
        "RF = RandomForestClassifier(max_depth=2, random_state=0).fit(trainX, trainY)"
      ]
    },
    {
      "cell_type": "code",
      "execution_count": 10,
      "metadata": {
        "colab": {
          "base_uri": "https://localhost:8080/"
        },
        "id": "awTUXWkolBLz",
        "outputId": "d6fdb6c4-6138-44e5-e2fa-9a9b9a264126"
      },
      "outputs": [
        {
          "name": "stdout",
          "output_type": "stream",
          "text": [
            "              precision    recall  f1-score   support\n",
            "\n",
            "           0       1.00      1.00      1.00    552412\n",
            "           1       0.98      1.00      0.99      1670\n",
            "\n",
            "    accuracy                           1.00    554082\n",
            "   macro avg       0.99      1.00      0.99    554082\n",
            "weighted avg       1.00      1.00      1.00    554082\n",
            "\n",
            "[0 1]\n"
          ]
        }
      ],
      "source": [
        "y_pred = clf.predict(testX)\n",
        "print(classification_report(testY, y_pred))\n",
        "print(clf.classes_)"
      ]
    },
    {
      "cell_type": "code",
      "execution_count": 11,
      "metadata": {
        "colab": {
          "base_uri": "https://localhost:8080/"
        },
        "id": "-DYQ5-kAQ9r3",
        "outputId": "4c4e179e-6838-4ff9-dda8-ab1c99771093"
      },
      "outputs": [
        {
          "name": "stdout",
          "output_type": "stream",
          "text": [
            "              precision    recall  f1-score   support\n",
            "\n",
            "           0       1.00      1.00      1.00    552412\n",
            "           1       0.48      0.43      0.46      1670\n",
            "\n",
            "    accuracy                           1.00    554082\n",
            "   macro avg       0.74      0.72      0.73    554082\n",
            "weighted avg       1.00      1.00      1.00    554082\n",
            "\n",
            "[0 1]\n"
          ]
        }
      ],
      "source": [
        "y_pred_LR = LR.predict(testX)\n",
        "print(classification_report(testY, y_pred_LR))\n",
        "print(LR.classes_)"
      ]
    },
    {
      "cell_type": "code",
      "execution_count": 12,
      "metadata": {
        "colab": {
          "base_uri": "https://localhost:8080/"
        },
        "id": "mPawCaAVRDvA",
        "outputId": "2cfa4092-8dd0-4c46-8714-2cb92422ee25"
      },
      "outputs": [
        {
          "name": "stdout",
          "output_type": "stream",
          "text": [
            "              precision    recall  f1-score   support\n",
            "\n",
            "           0       1.00      1.00      1.00    552412\n",
            "           1       1.00      0.17      0.29      1670\n",
            "\n",
            "    accuracy                           1.00    554082\n",
            "   macro avg       1.00      0.58      0.64    554082\n",
            "weighted avg       1.00      1.00      1.00    554082\n",
            "\n",
            "[0 1]\n"
          ]
        }
      ],
      "source": [
        "y_pred_RF = RF.predict(testX)\n",
        "print(classification_report(testY, y_pred_RF))\n",
        "print(RF.classes_)"
      ]
    },
    {
      "cell_type": "code",
      "execution_count": 13,
      "metadata": {
        "id": "PXXLsvQEjiK9"
      },
      "outputs": [],
      "source": [
        "import pickle\n",
        "with open('XGBoost.pkl', 'wb') as f:\n",
        "    pickle.dump(clf, f)  \n",
        "with open('RandomForest.pkl', 'wb') as f:\n",
        "    pickle.dump(RF, f)  \n",
        "with open('LogisticRegression.pkl', 'wb') as f:\n",
        "    pickle.dump(LR, f)  \n"
      ]
    }
  ],
  "metadata": {
    "colab": {
      "name": "iFood.ipynb",
      "provenance": []
    },
    "kernelspec": {
      "display_name": "Python 3.10.4 64-bit",
      "language": "python",
      "name": "python3"
    },
    "language_info": {
      "codemirror_mode": {
        "name": "ipython",
        "version": 3
      },
      "file_extension": ".py",
      "mimetype": "text/x-python",
      "name": "python",
      "nbconvert_exporter": "python",
      "pygments_lexer": "ipython3",
      "version": "3.10.4"
    },
    "vscode": {
      "interpreter": {
        "hash": "d0a4d82deee81db9a0d09e308519aed460fc6b5372e2dfd7660684eac61088a6"
      }
    }
  },
  "nbformat": 4,
  "nbformat_minor": 0
}
